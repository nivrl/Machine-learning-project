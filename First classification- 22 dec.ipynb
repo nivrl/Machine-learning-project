{
 "cells": [
  {
   "cell_type": "markdown",
   "id": "631a8bc5",
   "metadata": {},
   "source": [
    "## ML Project\n",
    "#### Submitted By:\n",
    "- **Niv Harel**: 208665869\n",
    "- **Eytan Muzafi**: 209160308\n",
    "\n",
    "#### Github: [https://github.com/nivrl/Machine-learning-project]"
   ]
  },
  {
   "cell_type": "markdown",
   "id": "854a664e",
   "metadata": {},
   "source": [
    "#### Imports"
   ]
  },
  {
   "cell_type": "code",
   "execution_count": 1143,
   "id": "56503537",
   "metadata": {},
   "outputs": [],
   "source": [
    "import pandas as pd\n",
    "import math\n",
    "from datetime import datetime\n",
    "import numpy as np\n",
    "import re\n",
    "import requests\n",
    "import seaborn as sns\n",
    "import matplotlib.pyplot as plt\n",
    "\n",
    "# from sklearn.linear_model import ElasticNet\n",
    "# from sklearn.model_selection import cross_val_score, GridSearchCV\n",
    "# from sklearn.metrics import mean_squared_error\n",
    "from sklearn.preprocessing import StandardScaler, OneHotEncoder\n",
    "\n",
    "# import math\n",
    "# from geopy.geocoders import Nominatim"
   ]
  },
  {
   "cell_type": "code",
   "execution_count": 1144,
   "id": "5963d196-79a3-4c80-aaf5-4f875428aff5",
   "metadata": {},
   "outputs": [],
   "source": [
    "#!pip install scikit-learn"
   ]
  },
  {
   "cell_type": "markdown",
   "id": "3bafc201",
   "metadata": {},
   "source": [
    "#### Reading and understanding the dataset"
   ]
  },
  {
   "cell_type": "code",
   "execution_count": null,
   "id": "8020595b",
   "metadata": {},
   "outputs": [],
   "source": [
    "Behaviors= pd.read_excel(\"Behaviors.xlsx\",index_col=0)  \n",
    "Bins= pd.read_excel(\"Bins.xlsx\",index_col=0)  \n",
    "Infrastructures= pd.read_excel(\"Infrastructures.xlsx\",index_col=0)  \n",
    "Dirt_Condition= pd.read_excel(\"Dirt_Condition.xlsx\",index_col=0)  "
   ]
  },
  {
   "cell_type": "code",
   "execution_count": null,
   "id": "317ff021-ea4c-4daa-a7ef-7caeafd46bfd",
   "metadata": {},
   "outputs": [],
   "source": [
    "#Infrastructures.head()"
   ]
  },
  {
   "cell_type": "code",
   "execution_count": null,
   "id": "2a3fd6de-b441-4539-8383-509d1611170b",
   "metadata": {
    "scrolled": true
   },
   "outputs": [],
   "source": [
    "#Dirt_Condition.head()"
   ]
  },
  {
   "cell_type": "code",
   "execution_count": null,
   "id": "90b5660b-8b67-4699-ab86-20d734b54d36",
   "metadata": {
    "scrolled": true
   },
   "outputs": [],
   "source": [
    "#Dirt_Condition.columns.tolist()"
   ]
  },
  {
   "cell_type": "code",
   "execution_count": null,
   "id": "1c344941-1ef7-489c-9c70-06dbb24a40eb",
   "metadata": {
    "scrolled": true
   },
   "outputs": [],
   "source": [
    "#Infrastructures.columns.tolist()"
   ]
  },
  {
   "cell_type": "code",
   "execution_count": null,
   "id": "f06994e8-1bf3-4a4a-874f-bf40fa7848ff",
   "metadata": {},
   "outputs": [],
   "source": [
    "Infrastructures = Infrastructures.reset_index()\n",
    "Dirt_Condition = Dirt_Condition.reset_index()\n",
    "Bins = Bins.reset_index()"
   ]
  },
  {
   "cell_type": "markdown",
   "id": "827de8ef",
   "metadata": {},
   "source": [
    "#### Creating dictionaries for columns renaming "
   ]
  },
  {
   "cell_type": "code",
   "execution_count": null,
   "id": "2b09053f-ec0d-4050-9bd6-43b40aa2de6d",
   "metadata": {},
   "outputs": [],
   "source": [
    "bins_mapping = {\n",
    "    'זמן סיום מהמערכת' : 'End_Time',\n",
    "    'יישוב': 'City',\n",
    "    'סמל_יישוב': 'City_Code',\n",
    "    'שעת הגעה לנקודה': 'Arrival_Time',\n",
    "    'נ.צ כתובת': 'Coordinate_Address',\n",
    "    'כתובת תיאור מיקום נקודת המדידה': 'Measurement_Point_Description',\n",
    "    'סוגנ קודת המדידה': 'Point_Type',\n",
    "    'האם יש פחים בנקודת המדידה': 'Has_Bins',\n",
    "    'כמה פחים יש בנקודת המדידה': 'Bin_Count',\n",
    "    'סוג': 'Type',\n",
    "    'מצב הפח': 'Bin_Condition',\n",
    "    'מפלס הפסולת בפח': 'Waste_Level',\n",
    "    'מפלס הפסולת בפח במספר': 'Waste_Level_Number'\n",
    "}\n",
    "\n",
    "dirt_condition_mapping = {\n",
    "    'זמן סיום מהמערכת' : 'End_Time',\n",
    "    'יישוב': 'City',\n",
    "    'סמל יישוב': 'City_Code',\n",
    "    'שעת הגעה לנקודה': 'Arrival_Time',\n",
    "    'נ.צ כתובת': 'Coordinate_Address',\n",
    "    'כתובת תיאור מיקום נקודת המדידה': 'Measurement_Point_Description',\n",
    "    'סוג נקודת המדידה': 'Point_Type',\n",
    "    'בדלי סיגריות': 'Cigarette_Butts',\n",
    "    'קופסאות סיגריות': 'Cigarette_Boxes',\n",
    "    'מסכות כירורגיות': 'Surgical_Masks',\n",
    "    'מכלי משקה למיניהם': 'Drink_Containers',\n",
    "    'פקקים של מכלי משקה': 'Drink_Container_Caps',\n",
    "    'אריזות מזון Take Away נייר': 'Paper_Takeaway_Packaging',\n",
    "    'אריזות מזון Take Away פלסטיק': 'Plastic_Takeaway_Packaging',\n",
    "    'צלחות חדפ': 'Disposable_Plates',\n",
    "    'סכום חדפ': 'Disposable_Cutlery',\n",
    "    'כוסות שתייה קרה חדפ': 'Disposable_Cold_Drink_Cups',\n",
    "    'כוסות שתייה חמה חדפ': 'Disposable_Hot_Drink_Cups',\n",
    "    'אריזות של חטיפים': 'Snack_Packaging',\n",
    "    'זכוכית לא מכלי משקה או לא ניתן לזיהוי': 'Non_Bottle_Glass',\n",
    "    'נייר אחר לא אריזות מזון': 'Other_Paper',\n",
    "    'פלסטיק אחר שקיות פלסטיק ורכיבי פלסטיק שאינם מכלי משקה אריזות מזון ומשקאות': 'Other_Plastic',\n",
    "    'פסולת אורגנית': 'Organic_Waste',\n",
    "    'פסולת בלתי חוקית שקית אשפה מלאה שהושלכה ברחוב': 'Illegal_Dumping',\n",
    "    'פסולת אחרת למשל בגדים סוללות חומרי פרסום וכל מה שלא קוטלג בקבוצות האחרות': 'Other_Waste',\n",
    "    'צואת כלבים': 'Dog_Feces',\n",
    "    'כתמי מסטיק': 'Gum_Stains',\n",
    "    'פריט פסולת גדול': 'Large_Waste_Item',\n",
    "    'אריזות קרטון': 'Cardboard_Packaging',\n",
    "    'גרפיטי': 'Graffiti',\n",
    "    'אחר1': 'Other1',\n",
    "    'אחר2': 'Other2',\n",
    "    'בנקודת המדידה נאספו x שקיות של פרטי לכלוך': 'Bags_Collected',\n",
    "    'כמה אנשים עברו בנקודת המדידה בזמן התצפית': 'People_Passed_During_Observation'\n",
    "}\n",
    "\n",
    "infrastructures_mapping = {\n",
    "    'זמןסיוםמהמערכת' : 'End_Time',\n",
    "    'יישוב': 'City',\n",
    "    'סמל_יישוב': 'City_Code',\n",
    "    'שעתהגעהלנקודה': 'Arrival_Time',\n",
    "    'נ.צכתובת': 'Coordinate_Address',\n",
    "    'כתובתתיאורמיקוםנקודתהמדידה': 'Measurement_Point_Description',\n",
    "    'התרשמותכלליתמנקודתהמדידה': 'General_Impression',\n",
    "    'מדרכה': 'Sidewalk',\n",
    "    'אבנישפה': 'Curb',\n",
    "    'גדרות': 'Fences',\n",
    "    'צמחייה': 'Vegetation',\n",
    "    'הערות': 'Remarks',\n",
    "    'point_type': 'Point_Type'\n",
    "}\n",
    "\n"
   ]
  },
  {
   "cell_type": "code",
   "execution_count": null,
   "id": "fd282502-38ef-45c6-a1d0-e1448895aaa2",
   "metadata": {},
   "outputs": [],
   "source": [
    "bins_renamed = Bins.rename(columns=bins_mapping)\n",
    "dirt_condition_renamed = Dirt_Condition.rename(columns=dirt_condition_mapping)\n",
    "infrastructures_renamed = Infrastructures.rename(columns=infrastructures_mapping)"
   ]
  },
  {
   "cell_type": "code",
   "execution_count": null,
   "id": "2feb1b34-0b80-4f4b-9f81-063f77c90c16",
   "metadata": {},
   "outputs": [],
   "source": [
    "#bins_renamed"
   ]
  },
  {
   "cell_type": "markdown",
   "id": "f49b2412",
   "metadata": {},
   "source": [
    "### First Data Cleaning & Organizing "
   ]
  },
  {
   "cell_type": "markdown",
   "id": "4ed6fab8-0baa-4b33-b473-de10657543c2",
   "metadata": {},
   "source": [
    "Take the relevant columns for each DF"
   ]
  },
  {
   "cell_type": "code",
   "execution_count": null,
   "id": "0f8e1665-a8b2-4dbe-aad8-064d569908fe",
   "metadata": {},
   "outputs": [],
   "source": [
    "bins_df = bins_renamed[['City_Code','Measurement_Point_Description', 'Point_Type','Bin_Count','Has_Bins','End_Time']]\n",
    "dirt_condition_df = dirt_condition_renamed.drop(['Arrival_Time','Coordinate_Address','Other1','Other2'], axis=1)\n",
    "infrastructures_df = infrastructures_renamed.drop(['City', 'Arrival_Time','Coordinate_Address','Remarks'], axis=1)"
   ]
  },
  {
   "cell_type": "markdown",
   "id": "323c1999-7adf-4b88-a593-94035dd9cf4a",
   "metadata": {},
   "source": [
    "#### Organizing the PKs for later merge: date, Measurement_Point_Description"
   ]
  },
  {
   "cell_type": "code",
   "execution_count": null,
   "id": "7e428cbe-c7a5-4854-9928-905f023a61dc",
   "metadata": {},
   "outputs": [],
   "source": [
    "bins_df['Measurement_Point_Description'] = bins_df['Measurement_Point_Description'].str.replace(r'[A-Za-z0-9_\\n]', '', regex=True)\n",
    "dirt_condition_df['Measurement_Point_Description'] = dirt_condition_df['Measurement_Point_Description'].str.replace(r'[A-Za-z0-9_\\n]', '', regex=True)\n",
    "infrastructures_df['Measurement_Point_Description'] = infrastructures_df['Measurement_Point_Description'].str.replace(r'[A-Za-z0-9_\\n]', '', regex=True)"
   ]
  },
  {
   "cell_type": "code",
   "execution_count": null,
   "id": "52258e60-c45b-4cb3-b13c-4d4e2123d577",
   "metadata": {},
   "outputs": [],
   "source": [
    "infrastructures_df['End_Time'] = pd.to_datetime(infrastructures_df['End_Time'])\n",
    "infrastructures_df['Date'] = infrastructures_df['End_Time'].dt.date\n",
    "\n",
    "dirt_condition_df['End_Time'] = pd.to_datetime(dirt_condition_df['End_Time'])\n",
    "dirt_condition_df['Date'] = dirt_condition_df['End_Time'].dt.date\n",
    "\n",
    "bins_df['End_Time'] = pd.to_datetime(bins_df['End_Time'])\n",
    "bins_df['Date'] = bins_df['End_Time'].dt.date"
   ]
  },
  {
   "cell_type": "markdown",
   "id": "32abc0b8-ccde-4873-9197-fadafb7b76ad",
   "metadata": {},
   "source": [
    "##### Handling Nulls (pre condition for merging the DFs) - Only for bin_count and has_bins"
   ]
  },
  {
   "cell_type": "code",
   "execution_count": null,
   "id": "0f1e7725",
   "metadata": {},
   "outputs": [],
   "source": [
    "avg_bin_count_per_city = (\n",
    "    bins_df\n",
    "    .groupby(['City_Code'], as_index=False)\n",
    "    .agg({'Bin_Count': 'mean'}) ## add avg count of gerbege\n",
    ")\n"
   ]
  },
  {
   "cell_type": "code",
   "execution_count": null,
   "id": "47b38074-43dc-44c9-a155-b652b089829b",
   "metadata": {},
   "outputs": [],
   "source": [
    "avg_bin_count_per_city.isnull().sum()"
   ]
  },
  {
   "cell_type": "code",
   "execution_count": null,
   "id": "4369b4e7-26ce-4a03-bf42-d3527dfcd16a",
   "metadata": {},
   "outputs": [],
   "source": [
    "# fill nulls with the avg\n",
    "avg_bin_count_per_city.Bin_Count = avg_bin_count_per_city.Bin_Count.fillna(avg_bin_count_per_city.Bin_Count.mean())\n",
    "avg_bin_count_per_city.head()"
   ]
  },
  {
   "cell_type": "code",
   "execution_count": null,
   "id": "3c785f5b",
   "metadata": {},
   "outputs": [],
   "source": [
    "# round to get integer numbers\n",
    "## NIV: WITH AI??, why do the round twice? \n",
    "avg_bin_count_per_city['Bin_Count'] = avg_bin_count_per_city['Bin_Count'].apply(\n",
    "    lambda x: math.ceil(x) if x - int(x) > 0.5 else math.floor(x))"
   ]
  },
  {
   "cell_type": "code",
   "execution_count": null,
   "id": "a954fa9e",
   "metadata": {},
   "outputs": [],
   "source": [
    "avg_bin_count_per_city.head()"
   ]
  },
  {
   "cell_type": "code",
   "execution_count": null,
   "id": "26bbe7c0",
   "metadata": {},
   "outputs": [],
   "source": [
    "bins_df['Fixed_Bin_Count'] = bins_df['Bin_Count'].combine_first(bins_df['City_Code'].map(\n",
    "    avg_bin_count_per_city.set_index('City_Code')['Bin_Count']))"
   ]
  },
  {
   "cell_type": "code",
   "execution_count": null,
   "id": "d9c3e8eb-26e2-477d-a5f6-c6beb3851be0",
   "metadata": {},
   "outputs": [],
   "source": [
    "bins_df.head()\n",
    "bins_df.shape"
   ]
  },
  {
   "cell_type": "code",
   "execution_count": null,
   "id": "2a874aca",
   "metadata": {},
   "outputs": [],
   "source": [
    "bins_df['Has_Bins'] = bins_df['Has_Bins'].replace('כן', True)\n",
    "bins_df['Has_Bins'] = bins_df['Has_Bins'].replace('לא', False)\n",
    "bins_df"
   ]
  },
  {
   "cell_type": "code",
   "execution_count": null,
   "id": "20d724a2-4316-4115-b279-1ebd5fbca024",
   "metadata": {},
   "outputs": [],
   "source": [
    "#There is more then one row per pk's\n",
    "bins_df = (\n",
    "    bins_df\n",
    "    .groupby(['City_Code', 'Measurement_Point_Description', 'Point_Type', 'End_Time','Date'], as_index=False)\n",
    "    .agg({'Has_Bins': 'max','Fixed_Bin_Count': 'mean'}) \n",
    ")"
   ]
  },
  {
   "cell_type": "code",
   "execution_count": null,
   "id": "522039b7-9779-41e5-9e69-f42056788126",
   "metadata": {},
   "outputs": [],
   "source": [
    "bins_df.shape"
   ]
  },
  {
   "cell_type": "code",
   "execution_count": null,
   "id": "3746e708-9de6-4a3b-95b0-12f8357c956c",
   "metadata": {},
   "outputs": [],
   "source": [
    "bins_df['Bin_Count'] = bins_df['Fixed_Bin_Count'].apply(\n",
    "    lambda x: math.ceil(x) if x - int(x) > 0.5 else math.floor(x))"
   ]
  },
  {
   "cell_type": "code",
   "execution_count": null,
   "id": "d89bcf5c",
   "metadata": {},
   "outputs": [],
   "source": [
    "bins_df.head(10)"
   ]
  },
  {
   "cell_type": "markdown",
   "id": "08d9eb58-b4bb-429e-9970-94e53297f2c9",
   "metadata": {},
   "source": [
    "#### Merging DFs with inner joins "
   ]
  },
  {
   "cell_type": "code",
   "execution_count": null,
   "id": "901e14e7-83c2-471a-9628-e8312ebdda26",
   "metadata": {},
   "outputs": [],
   "source": [
    "merged_df = pd.merge(infrastructures_df, dirt_condition_df, on=[\n",
    "    \"City_Code\", \"Measurement_Point_Description\", \"Date\"], how='inner')\t"
   ]
  },
  {
   "cell_type": "code",
   "execution_count": null,
   "id": "9cc5f0a4",
   "metadata": {},
   "outputs": [],
   "source": [
    "merged_df.shape"
   ]
  },
  {
   "cell_type": "code",
   "execution_count": null,
   "id": "bd60689a-64eb-4d4e-ae62-2f37ed21da5b",
   "metadata": {},
   "outputs": [],
   "source": [
    "full_merged_df = pd.merge(merged_df, bins_df, on=\n",
    "                          [\"City_Code\", \"Measurement_Point_Description\", \"Date\"], how='inner')\t"
   ]
  },
  {
   "cell_type": "code",
   "execution_count": null,
   "id": "c70989a4-fbf4-4dac-ab88-df7046077c8f",
   "metadata": {
    "scrolled": true
   },
   "outputs": [],
   "source": [
    "relevant_columns = ['End_Time_x', 'Date', 'City', 'City_Code', 'Measurement_Point_Description', 'Point_Type_x',\n",
    "       'Cigarette_Butts', 'Cigarette_Boxes', 'Surgical_Masks', 'Drink_Containers',\n",
    "       'Drink_Container_Caps', 'Paper_Takeaway_Packaging',\n",
    "       'Plastic_Takeaway_Packaging', 'Disposable_Plates', 'Disposable_Cutlery',\n",
    "       'Disposable_Cold_Drink_Cups', 'Disposable_Hot_Drink_Cups',\n",
    "       'Snack_Packaging', 'Non_Bottle_Glass', 'Other_Paper', 'Other_Plastic',\n",
    "       'Organic_Waste', 'Illegal_Dumping', 'Other_Waste', 'Dog_Feces',\n",
    "       'Gum_Stains', 'Large_Waste_Item', 'Cardboard_Packaging', 'Graffiti',\n",
    "       'Bags_Collected', 'People_Passed_During_Observation', 'Has_Bins','Bin_Count',\n",
    "       'General_Impression', 'Sidewalk', 'Curb', 'Fences', 'Vegetation']\n",
    "\n",
    "full_merged_df = full_merged_df[relevant_columns]"
   ]
  },
  {
   "cell_type": "code",
   "execution_count": null,
   "id": "25c50156",
   "metadata": {},
   "outputs": [],
   "source": [
    "full_merged_df.rename(columns=lambda col: col[:-2] if col.endswith('_x') else col, inplace=True)\n",
    "full_merged_df.head()"
   ]
  },
  {
   "cell_type": "code",
   "execution_count": null,
   "id": "8fdf8822-cf0f-473c-bc3d-78ac4bf2e97c",
   "metadata": {},
   "outputs": [],
   "source": [
    "full_merged_df.shape"
   ]
  },
  {
   "cell_type": "markdown",
   "id": "46a07309",
   "metadata": {},
   "source": [
    "#### Fetching dtypes"
   ]
  },
  {
   "cell_type": "code",
   "execution_count": null,
   "id": "44631f17-9a25-457d-abc3-db9ceb0117eb",
   "metadata": {},
   "outputs": [],
   "source": [
    "full_merged_df.dtypes"
   ]
  },
  {
   "cell_type": "code",
   "execution_count": null,
   "id": "7cab2316",
   "metadata": {},
   "outputs": [],
   "source": [
    "full_merged_df['Date'] = pd.to_datetime(full_merged_df['Date'])"
   ]
  },
  {
   "cell_type": "code",
   "execution_count": null,
   "id": "f0b82983",
   "metadata": {},
   "outputs": [],
   "source": [
    "full_merged_df.dtypes"
   ]
  },
  {
   "cell_type": "code",
   "execution_count": null,
   "id": "54200382",
   "metadata": {},
   "outputs": [],
   "source": [
    "for col in full_merged_df.columns:\n",
    "    if col not in ['Measurement_Point_Description', 'Point_Type']:\n",
    "        if full_merged_df[col].dtype not in ['int64', 'float64', 'datetime64[ns]']:\n",
    "            full_merged_df[col] = full_merged_df[col].astype('category')"
   ]
  },
  {
   "cell_type": "code",
   "execution_count": null,
   "id": "9e554533",
   "metadata": {},
   "outputs": [],
   "source": [
    "full_merged_df.dtypes"
   ]
  },
  {
   "cell_type": "code",
   "execution_count": null,
   "id": "aa50df94",
   "metadata": {},
   "outputs": [],
   "source": [
    "full_merged_df.to_excel('full_merged_df.xlsx', index=False)"
   ]
  },
  {
   "cell_type": "markdown",
   "id": "e6b0d605",
   "metadata": {},
   "source": [
    "### Handling the rest of the Nulls & Outlires"
   ]
  },
  {
   "cell_type": "code",
   "execution_count": null,
   "id": "7f62ab7d",
   "metadata": {},
   "outputs": [],
   "source": [
    "df= pd.read_excel(\"full_merged_df.xlsx\") "
   ]
  },
  {
   "cell_type": "code",
   "execution_count": null,
   "id": "aae09afe",
   "metadata": {},
   "outputs": [],
   "source": [
    "df.head()"
   ]
  },
  {
   "cell_type": "code",
   "execution_count": null,
   "id": "bfa11788",
   "metadata": {},
   "outputs": [],
   "source": [
    "len(df.City.unique())"
   ]
  },
  {
   "cell_type": "code",
   "execution_count": null,
   "id": "7bce1874",
   "metadata": {
    "scrolled": true
   },
   "outputs": [],
   "source": [
    "df.columns"
   ]
  },
  {
   "cell_type": "markdown",
   "id": "521da214-6caf-4aca-8ebc-0803b17d8ecb",
   "metadata": {},
   "source": [
    "### Create a Grade column for Infrastructure status to idaetify clases acording one numeric column"
   ]
  },
  {
   "cell_type": "code",
   "execution_count": null,
   "id": "80ea54f9-33e1-4e6f-9c48-42d7d5344fef",
   "metadata": {},
   "outputs": [],
   "source": [
    "for col in [\"Sidewalk\", \"Curb\", \"Fences\", \"Vegetation\"]:\n",
    "    print(col)\n",
    "    print(df[col].unique())\n",
    "    print(df[col].isnull().sum())\n",
    "df.General_Impression.isnull().sum()"
   ]
  },
  {
   "cell_type": "code",
   "execution_count": null,
   "id": "38430c42-469d-4aae-b859-22df4e45fcb7",
   "metadata": {},
   "outputs": [],
   "source": [
    "df_with_all_nulls = df[df[[\"Sidewalk\", \"Curb\", \"Fences\", \"Vegetation\"]].isnull().all(axis=1)]\n",
    "df_with_all_nulls.shape\n",
    "# 21 rows"
   ]
  },
  {
   "cell_type": "code",
   "execution_count": null,
   "id": "a6aa60e6-6ae8-4dd4-ac62-7904f190ab88",
   "metadata": {},
   "outputs": [],
   "source": [
    "status_mapping_dict = {\n",
    "    'לא תקין (מוזנח)': 3,\n",
    "    'סביר': 2,\n",
    "    'תקין (מטופח)': 1,\n",
    "    'לא רלוונטי':  pd.NA \n",
    "}\n",
    "\n",
    "columns_to_replace = [\"Sidewalk\", \"Curb\", \"Fences\", \"Vegetation\"]\n",
    "\n",
    "temp_df = df.copy()\n",
    "# Replacing values in the specified columns using the mapping dictionary\n",
    "temp_df['infrastructure_grade']=df[[\"Sidewalk\", \"Curb\", \"Fences\", \"Vegetation\"]].replace(status_mapping_dict).mean(axis=1, skipna=True)\n"
   ]
  },
  {
   "cell_type": "code",
   "execution_count": null,
   "id": "27ef85ed-49b9-4ba5-839a-20d78e76775d",
   "metadata": {
    "scrolled": true
   },
   "outputs": [],
   "source": [
    "df_with_nulls = temp_df[temp_df[[\"Sidewalk\", \"Curb\", \"Fences\", \"Vegetation\"]].isnull().all(axis=1)]\n",
    "df_with_nulls.shape"
   ]
  },
  {
   "cell_type": "code",
   "execution_count": null,
   "id": "864f8ee7-74c7-4f66-b1ce-21d58b39faa6",
   "metadata": {
    "scrolled": true
   },
   "outputs": [],
   "source": [
    "## smaller is better\n",
    "temp_df['infrastructure_grade']"
   ]
  },
  {
   "cell_type": "code",
   "execution_count": null,
   "id": "ffb8c07d-bec8-464f-a0ba-0ad56cc9f422",
   "metadata": {},
   "outputs": [],
   "source": [
    "#Try to more clearly differentiate between infrastructures with different scores, ֿ\n",
    "#We have highlighted the differences between them to give more meaning to good infrastructures.\n",
    "\n",
    "status_strong_2_mapping_dict = {\n",
    "    'לא תקין (מוזנח)': 9,\n",
    "    'סביר': 4,\n",
    "    'תקין (מטופח)': 1,\n",
    "    'לא רלוונטי':  pd.NA \n",
    "}\n",
    "\n",
    "# List of columns where the mapping should be applied\n",
    "columns_to_replace = [\"Sidewalk\", \"Curb\", \"Fences\", \"Vegetation\"]\n",
    "\n",
    "# Replacing values in the specified columns using the mapping dictionary\n",
    "temp_df['infrastructure_grade_strong'] = df[[\"Sidewalk\", \"Curb\", \"Fences\", \"Vegetation\"]].replace(status_strong_2_mapping_dict).mean(axis=1, skipna=True)\n"
   ]
  },
  {
   "cell_type": "code",
   "execution_count": null,
   "id": "c9a460ca-a810-4385-8fb5-bedaccd035f4",
   "metadata": {},
   "outputs": [],
   "source": [
    "temp_df.infrastructure_grade.isnull().sum() # 27 rows"
   ]
  },
  {
   "cell_type": "code",
   "execution_count": null,
   "id": "2a971228-7daa-46b4-b205-f0f161ffc692",
   "metadata": {},
   "outputs": [],
   "source": [
    "# If all the infrastructure columns ia null or 'לא רלוונטי', we cant calculate the grade for the row. so we decided to drop this rows\n",
    "temp_df = temp_df.dropna(subset=\"infrastructure_grade\")\n",
    "temp_df.infrastructure_grade.isnull().sum()"
   ]
  },
  {
   "cell_type": "code",
   "execution_count": null,
   "id": "0295563e-ee0f-43e3-937c-d2801a9861ce",
   "metadata": {},
   "outputs": [],
   "source": [
    "df = temp_df.drop([\"Sidewalk\", \"Curb\", \"Fences\", \"Vegetation\",\"General_Impression\"], axis=1)"
   ]
  },
  {
   "cell_type": "code",
   "execution_count": null,
   "id": "c3bb4932-ce78-44f6-9743-ce33e80bbee4",
   "metadata": {
    "scrolled": true
   },
   "outputs": [],
   "source": [
    "plt.figure(figsize=(8, 4))\n",
    "plt.boxplot(df['infrastructure_grade'], vert=False, patch_artist=True, boxprops=dict(facecolor='lightblue'))\n",
    "plt.title('Box Plot of infrastructure_grade')\n",
    "plt.xlabel('infrastructure_grade')\n",
    "plt.show()\n",
    "\n",
    "plt.figure(figsize=(8, 4))\n",
    "plt.boxplot(df['infrastructure_grade_strong'], vert=False, patch_artist=True, boxprops=dict(facecolor='lightblue'))\n",
    "plt.title('Box Plot of infrastructure_grade_strong')\n",
    "plt.xlabel('infrastructure_grade_strong')\n",
    "plt.show()"
   ]
  },
  {
   "cell_type": "code",
   "execution_count": null,
   "id": "01e20aae-5da7-41de-b123-de212192ed97",
   "metadata": {},
   "outputs": [],
   "source": [
    "# Create equal-width bins (3 bins)\n",
    "#df['equal_width_bins'] = pd.cut(df['values'], bins=3)\n",
    "\n",
    "# divide the grade to 3 clases. each class have the same number of rows. because we have alot of rows in good grade\n",
    "df['depth_bins_infrastructure_grade_strong'], bins = pd.qcut(df['infrastructure_grade_strong'],retbins=True, q=3,labels=False)\n",
    "df[['depth_bins_infrastructure_grade_strong','infrastructure_grade_strong']]\n",
    "bins"
   ]
  },
  {
   "cell_type": "code",
   "execution_count": null,
   "id": "6517dba9-415d-47a3-bbf8-5811ecf3b699",
   "metadata": {},
   "outputs": [],
   "source": [
    "df['depth_bins_infrastructure_grade_strong'] = df['depth_bins_infrastructure_grade_strong'].replace(0, 'Great')\n",
    "df['depth_bins_infrastructure_grade_strong'] = df['depth_bins_infrastructure_grade_strong'].replace(1, 'Good')\n",
    "df['depth_bins_infrastructure_grade_strong'] = df['depth_bins_infrastructure_grade_strong'].replace(2, 'poor')"
   ]
  },
  {
   "cell_type": "code",
   "execution_count": null,
   "id": "7c9ccc68-7fe4-4296-8f34-028512f93b57",
   "metadata": {},
   "outputs": [],
   "source": [
    "plt.figure(figsize=(8, 4))\n",
    "sns.scatterplot(\n",
    "    data=df,\n",
    "    x=df.index,  # Replace with the desired X-axis if not using the index\n",
    "    y='infrastructure_grade_strong',\n",
    "    hue='depth_bins_infrastructure_grade_strong'\n",
    ")\n",
    "\n",
    "# Labels and title\n",
    "plt.title('Scatter Plot: Infrastructure Grade vs Depth Bins', fontsize=10)\n",
    "plt.xlabel('Index', fontsize=8)  \n",
    "plt.ylabel('Infrastructure Grade Strong', fontsize=8)\n",
    "plt.legend(title='Depth Bins Groups', bbox_to_anchor=(1.05, 1), loc='upper left')\n",
    "\n",
    "plt.show()"
   ]
  },
  {
   "cell_type": "markdown",
   "id": "9b5d72cc",
   "metadata": {
    "jp-MarkdownHeadingCollapsed": true
   },
   "source": [
    "### Nulls Handling Division:\n",
    "\n",
    "### Niv - \n",
    "['End_Time', 'Date', 'City', 'City_Code',\n",
    "       'Measurement_Point_Description', 'Point_Type', 'Cigarette_Butts',\n",
    "       'Cigarette_Boxes', 'Surgical_Masks', 'Drink_Containers',\n",
    "       'Drink_Container_Caps', 'Paper_Takeaway_Packaging',\n",
    "       'Plastic_Takeaway_Packaging', 'Disposable_Plates', 'Disposable_Cutlery',\n",
    "       'Disposable_Cold_Drink_Cups', 'Disposable_Hot_Drink_Cups',\n",
    "       'Snack_Packaging', 'Non_Bottle_Glass', 'Other_Paper', 'Other_Plastic']\n",
    "       \n",
    "### Mutzafi - \n",
    "['Organic_Waste', 'Illegal_Dumping', 'Other_Waste', 'Dog_Feces',\n",
    "       'Gum_Stains', 'Large_Waste_Item', 'Cardboard_Packaging', 'Graffiti',\n",
    "       'Bags_Collected', 'People_Passed_During_Observation', 'Has_Bins',\n",
    "       'Bin_Count', 'General_Impression', 'Sidewalk', 'Curb', 'Fences',\n",
    "       'Vegetation']\n"
   ]
  },
  {
   "cell_type": "code",
   "execution_count": null,
   "id": "dcb8178f",
   "metadata": {},
   "outputs": [],
   "source": [
    "## Dates Fetching\n",
    "df['Day_Of_Week'] = df.Date.dt.dayofweek\n",
    "df['Month'] = df.Date.dt.month\n",
    "\n",
    "df = df.drop(['End_Time', 'Date'], axis=1)\n",
    "df[['Month', 'Day_Of_Week']] = df[['Month', 'Day_Of_Week']] = df[['Month', 'Day_Of_Week']].astype('category')\n",
    "\n",
    "## Fetching Point_type\n",
    "df[['Point_Type']] = df[['Point_Type']] = df[['Point_Type']].astype('category')\n"
   ]
  },
  {
   "cell_type": "code",
   "execution_count": null,
   "id": "609d94ea",
   "metadata": {
    "scrolled": true
   },
   "outputs": [],
   "source": [
    "## City Fetching - Avoiding OverFitting\n",
    "economical_status = pd.read_excel(\"economical_status.xlsx\")  \n",
    "economical_status = economical_status[economical_status['Unnamed: 2'].notnull()].reset_index()\n",
    "economical_status = economical_status.iloc[1:, [2, 7, 9]]\n",
    "columns_rename_e = ['City_Code','Area_code', 'Economical_Rate']\n",
    "economical_status.columns = columns_rename_e\n",
    "economical_status['Economical_Rate'] = economical_status['Economical_Rate'].astype('Float64')\n",
    "economical_status = economical_status.groupby(['City_Code'], as_index=False).agg({'Economical_Rate': 'mean'})\n",
    "economical_status"
   ]
  },
  {
   "cell_type": "code",
   "execution_count": null,
   "id": "3a78238e",
   "metadata": {
    "scrolled": true
   },
   "outputs": [],
   "source": [
    "## City Fetching - Avoiding OverFitting\n",
    "location_rank = pd.read_excel(\"location_rank.xlsx\")  \n",
    "location_rank = location_rank.iloc[6:, [3, 9]]\n",
    "columns_rename_l = ['City_Code','Location_Rate']\n",
    "location_rank.columns = columns_rename_l\n",
    "location_rank['Location_Rate'] = location_rank['Location_Rate'].astype('Float64')\n",
    "location_rank = location_rank.groupby(['City_Code'], as_index=False).agg({'Location_Rate': 'mean'})\n",
    "location_rank"
   ]
  },
  {
   "cell_type": "code",
   "execution_count": null,
   "id": "f4798e8f-5f54-46ad-b021-90e39e3fd88a",
   "metadata": {},
   "outputs": [],
   "source": [
    "len(df)"
   ]
  },
  {
   "cell_type": "code",
   "execution_count": null,
   "id": "3447c835",
   "metadata": {},
   "outputs": [],
   "source": [
    "## City Fetching - Avoiding OverFitting\n",
    "df = pd.merge(df, economical_status, on=[\n",
    "    \"City_Code\"], how='inner')\n",
    "df = pd.merge(df, location_rank, on=[\n",
    "    \"City_Code\"], how='inner')"
   ]
  },
  {
   "cell_type": "code",
   "execution_count": null,
   "id": "7a1dc514-8de0-41da-87dc-ee5e1f81e3af",
   "metadata": {},
   "outputs": [],
   "source": [
    "len(df)"
   ]
  },
  {
   "cell_type": "code",
   "execution_count": null,
   "id": "67056167",
   "metadata": {
    "scrolled": true
   },
   "outputs": [],
   "source": [
    "## Street Fetching - Avoiding OverFitting \n",
    "def classify_street(street):\n",
    "    if any(keyword in street for keyword in ['דיין', 'הרצל', 'גוריון', 'רוטשילד', 'בגין', 'דיזינגוף']):\n",
    "        return 'Main'\n",
    "    if any(keyword in street for keyword in ['פארק', 'גן']):\n",
    "        return 'Park'\n",
    "    if any(keyword in street for keyword in ['קניון', 'מרכז מסחרי', 'שוק']):\n",
    "        return 'Commercial'\n",
    "    if any(keyword in street for keyword in ['תחנת דלק', 'תחנת רכבת']):\n",
    "        return 'Transportation'\n",
    "    if any(keyword in street for keyword in ['בית ספר', 'מתנ\"ס', 'קופת חולים']):\n",
    "        return 'Public Facility'\n",
    "    if any(keyword in street for keyword in [\n",
    "    'מכללת' , 'שדרה', 'דרך', 'מרכז', 'מכללה', 'טיילת', 'כיכר']):  \n",
    "        return 'Popular'\n",
    "    return 'Other'\n",
    "\n",
    "df['Street_Group'] = df['Measurement_Point_Description'].apply(lambda x: classify_street(x))\n",
    "\n",
    "df.head()"
   ]
  },
  {
   "cell_type": "code",
   "execution_count": null,
   "id": "6d190a83",
   "metadata": {},
   "outputs": [],
   "source": [
    "df['Street_Group'].value_counts() ## Maybe delete most of the others.. We can handle data of 300-400 rows \n",
    "## ( by hajaj it need to be greater than 100..)"
   ]
  },
  {
   "cell_type": "code",
   "execution_count": null,
   "id": "25e58cb3-bb6b-4592-9aff-5b3c71276e08",
   "metadata": {
    "scrolled": true
   },
   "outputs": [],
   "source": [
    "df.isnull().sum()"
   ]
  },
  {
   "cell_type": "code",
   "execution_count": null,
   "id": "2e1c6fd5-6c3d-4569-a6d9-ea218e5725b9",
   "metadata": {},
   "outputs": [],
   "source": [
    "df['Organic_Waste'] = df.groupby(['City_Code'])['Organic_Waste'].transform(lambda x: x.fillna(x.mean()))"
   ]
  },
  {
   "cell_type": "code",
   "execution_count": null,
   "id": "d192419d-c957-472f-aeff-c1f1199e9d58",
   "metadata": {},
   "outputs": [],
   "source": [
    "df.isnull().sum()"
   ]
  },
  {
   "cell_type": "code",
   "execution_count": null,
   "id": "bded5d10",
   "metadata": {},
   "outputs": [],
   "source": [
    "numeric_cols = [col for col in df.columns if df[col].dtype in [\"int64\",\"Float64\"] and col not in['Economical_Rate', 'Location_Rate']]"
   ]
  },
  {
   "cell_type": "code",
   "execution_count": null,
   "id": "31337174",
   "metadata": {},
   "outputs": [],
   "source": [
    "## Examining Outlieres\n",
    "for col in numeric_cols:\n",
    "    plt.figure(figsize=(6, 4))\n",
    "    plt.boxplot(df[col])\n",
    "    plt.title(f'Boxplot of {col}')\n",
    "    plt.show() ## Need to be normalized with generic function"
   ]
  },
  {
   "cell_type": "markdown",
   "id": "1adf458a-b809-43d8-8ae9-1190953d6c70",
   "metadata": {
    "jp-MarkdownHeadingCollapsed": true
   },
   "source": [
    "### Dimensionality Reduction "
   ]
  },
  {
   "cell_type": "code",
   "execution_count": null,
   "id": "27b3f869-9726-4e95-b469-043c7bea5c54",
   "metadata": {},
   "outputs": [],
   "source": [
    "df = df.drop(['City','Measurement_Point_Description','infrastructure_grade','infrastructure_grade_strong'], axis=1)"
   ]
  },
  {
   "cell_type": "code",
   "execution_count": null,
   "id": "b4dfbe04-d54c-4e8e-a9d5-e622d6f97b14",
   "metadata": {},
   "outputs": [],
   "source": [
    "numeric_cols = df.select_dtypes(include=['int64', 'float64']).columns\n",
    "df_numeric = df[numeric_cols]"
   ]
  },
  {
   "cell_type": "code",
   "execution_count": null,
   "id": "1d995f4d-7ae2-48eb-98c1-3e50a0bb6937",
   "metadata": {},
   "outputs": [],
   "source": [
    "corr_matrix = df_numeric.corr()\n",
    "plt.figure(figsize=(8, 6))\n",
    "sns.heatmap(corr_matrix, cmap='coolwarm')\n",
    "plt.title(\"Correlation Matrix Heatmap\")\n",
    "plt.show()"
   ]
  },
  {
   "cell_type": "code",
   "execution_count": null,
   "id": "e5a24bf3-dc1b-4335-8cca-33d3ec8f6c49",
   "metadata": {},
   "outputs": [],
   "source": [
    "from sklearn.decomposition import PCA\n",
    "from sklearn.preprocessing import StandardScaler"
   ]
  },
  {
   "cell_type": "code",
   "execution_count": null,
   "id": "12cb7011-0119-4813-97d1-cd8d33264a75",
   "metadata": {},
   "outputs": [],
   "source": [
    "# Standardize the data\n",
    "scaler = StandardScaler()\n",
    "df_scaled = scaler.fit_transform(df_numeric)\n",
    "\n",
    "# Apply PCA\n",
    "pca = PCA(n_components=2)\n",
    "df_pca = pca.fit_transform(df_scaled)\n"
   ]
  },
  {
   "cell_type": "code",
   "execution_count": null,
   "id": "139bee5c-dd36-4118-a226-31072e5fba72",
   "metadata": {},
   "outputs": [],
   "source": [
    "df_pca = pd.DataFrame(df_pca, columns=['PC1', 'PC2'])\n",
    "df_pca"
   ]
  },
  {
   "cell_type": "code",
   "execution_count": null,
   "id": "c8f753bf-75d3-47af-9ed7-b8c8cd3519ae",
   "metadata": {},
   "outputs": [],
   "source": [
    "pca.explained_variance_ratio_"
   ]
  },
  {
   "cell_type": "markdown",
   "id": "fafa026e-5a5a-4708-9d18-acff758b2bf0",
   "metadata": {},
   "source": [
    "### Encode category columns  "
   ]
  },
  {
   "cell_type": "code",
   "execution_count": null,
   "id": "8da8cb85-3a9f-4f17-979c-7f01bb76d3e5",
   "metadata": {},
   "outputs": [],
   "source": [
    "df.dtypes"
   ]
  },
  {
   "cell_type": "code",
   "execution_count": null,
   "id": "a6cfcd28-4975-47fc-a92a-3053c68649f3",
   "metadata": {},
   "outputs": [],
   "source": [
    "def convert_categorial_by_encoder(X, categorical_cols):\n",
    "    ohe = OneHotEncoder(drop='first',sparse_output=False) \n",
    "    encoded_categorical = ohe.fit_transform(X[categorical_cols])\n",
    "    encoded_categorical_df = pd.DataFrame(encoded_categorical, columns=ohe.get_feature_names_out(categorical_cols))\n",
    "\n",
    "    return encoded_categorical_df"
   ]
  },
  {
   "cell_type": "code",
   "execution_count": null,
   "id": "38a50619-4d09-472f-a140-b0ed0223d2b6",
   "metadata": {},
   "outputs": [],
   "source": [
    "def normlize_nomarical_features(X,numerical_cols):\n",
    "    for col in numerical_cols:\n",
    "        X[col] = (df[col] - df[col].min()) / (df[col].max() - df[col].min())\n",
    "    return X[numerical_cols]"
   ]
  },
  {
   "cell_type": "code",
   "execution_count": null,
   "id": "ac4f91dc-b1ae-4527-b145-16e75bb11bf8",
   "metadata": {},
   "outputs": [],
   "source": [
    "def normalize_and_encode (df_prepared):\n",
    "    for col in ['Point_Type','City_Code', \"Has_Bins\",\"Day_Of_Week\",\"Month\",\"Street_Group\"]:\n",
    "        df[col] = df[col].astype('category')\n",
    "\n",
    "    X = df_prepared.drop(\"depth_bins_infrastructure_grade_strong\", axis=1)  #  \"depth_bins_infrastructure_grade_strong\" is the target variable\n",
    "    y = df_prepared[\"depth_bins_infrastructure_grade_strong\"]\n",
    "    \n",
    "    numerical_cols = X.select_dtypes(include=['int64', 'float64']).columns\n",
    "    categorical_cols = X.select_dtypes(include=['category']).columns\n",
    "\n",
    "    encoded_categorical_df=convert_categorial_by_encoder(X,categorical_cols)\n",
    "    scaled_numerical_df=normlize_nomarical_features(X,numerical_cols)\n",
    "    \n",
    "    # Combine features\n",
    "    X_processed = pd.concat([encoded_categorical_df, scaled_numerical_df], axis=1)\n",
    "    \n",
    "    # Concat \n",
    "    normal_df=pd.concat([X_processed, y], axis=1).dropna() \n",
    "\n",
    "    return normal_df"
   ]
  },
  {
   "cell_type": "code",
   "execution_count": null,
   "id": "84dab678-21e5-401f-9f96-854bf1f7de34",
   "metadata": {
    "scrolled": true
   },
   "outputs": [],
   "source": [
    "final_df = normalize_and_encode(df)"
   ]
  },
  {
   "cell_type": "code",
   "execution_count": null,
   "id": "bb27cd2f-64f0-43ad-ad86-3858c0568e01",
   "metadata": {},
   "outputs": [],
   "source": [
    "final_df.sample(10)"
   ]
  },
  {
   "cell_type": "code",
   "execution_count": null,
   "id": "e8e560c3-823b-4d99-8dce-cb07d39d62e3",
   "metadata": {},
   "outputs": [],
   "source": []
  }
 ],
 "metadata": {
  "kernelspec": {
   "display_name": "Python 3 (ipykernel)",
   "language": "python",
   "name": "python3"
  },
  "language_info": {
   "codemirror_mode": {
    "name": "ipython",
    "version": 3
   },
   "file_extension": ".py",
   "mimetype": "text/x-python",
   "name": "python",
   "nbconvert_exporter": "python",
   "pygments_lexer": "ipython3",
   "version": "3.10.11"
  }
 },
 "nbformat": 4,
 "nbformat_minor": 5
}
