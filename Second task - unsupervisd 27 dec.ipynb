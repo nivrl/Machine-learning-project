{
 "cells": [
  {
   "cell_type": "code",
   "execution_count": 1,
   "id": "807eb029-95ee-40b0-a47e-7723bc160bd3",
   "metadata": {},
   "outputs": [],
   "source": [
    "import pandas as pd\n",
    "import math\n",
    "from datetime import datetime\n",
    "import numpy as np\n",
    "import re\n",
    "import requests\n",
    "import seaborn as sns\n",
    "import matplotlib.pyplot as plt\n",
    "from sklearn.preprocessing import StandardScaler, OneHotEncoder"
   ]
  },
  {
   "cell_type": "code",
   "execution_count": 2,
   "id": "7f38f371-4537-4663-93d6-c95d2d372920",
   "metadata": {},
   "outputs": [],
   "source": [
    "Behaviors= pd.read_excel(\"Behaviors.xlsx\",index_col=0)  \n",
    "Bins= pd.read_excel(\"Bins.xlsx\",index_col=0)  \n",
    "Infrastructures= pd.read_excel(\"Infrastructures.xlsx\",index_col=0)   "
   ]
  },
  {
   "cell_type": "code",
   "execution_count": 3,
   "id": "d5590c1b-e926-4e1e-94d5-186be1af81cc",
   "metadata": {},
   "outputs": [],
   "source": [
    "Infrastructures = Infrastructures.reset_index()\n",
    "Bins = Bins.reset_index()"
   ]
  },
  {
   "cell_type": "code",
   "execution_count": 4,
   "id": "0f83eca5-d268-450b-b607-b938670e833c",
   "metadata": {},
   "outputs": [],
   "source": [
    "bins_mapping = {\n",
    "    'זמן סיום מהמערכת' : 'End_Time',\n",
    "    'יישוב': 'City',\n",
    "    'סמל_יישוב': 'City_Code',\n",
    "    'שעת הגעה לנקודה': 'Arrival_Time',\n",
    "    'נ.צ כתובת': 'Coordinate_Address',\n",
    "    'כתובת תיאור מיקום נקודת המדידה': 'Measurement_Point_Description',\n",
    "    'סוגנ קודת המדידה': 'Point_Type',\n",
    "    'האם יש פחים בנקודת המדידה': 'Has_Bins',\n",
    "    'כמה פחים יש בנקודת המדידה': 'Bin_Count',\n",
    "    'סוג': 'Type',\n",
    "    'מצב הפח': 'Bin_Condition',\n",
    "    'מפלס הפסולת בפח': 'Waste_Level',\n",
    "    'מפלס הפסולת בפח במספר': 'Waste_Level_Number'\n",
    "}\n",
    "\n",
    "infrastructures_mapping = {\n",
    "    'זמןסיוםמהמערכת' : 'End_Time',\n",
    "    'יישוב': 'City',\n",
    "    'סמל_יישוב': 'City_Code',\n",
    "    'שעתהגעהלנקודה': 'Arrival_Time',\n",
    "    'נ.צכתובת': 'Coordinate_Address',\n",
    "    'כתובתתיאורמיקוםנקודתהמדידה': 'Measurement_Point_Description',\n",
    "    'התרשמותכלליתמנקודתהמדידה': 'General_Impression',\n",
    "    'מדרכה': 'Sidewalk',\n",
    "    'אבנישפה': 'Curb',\n",
    "    'גדרות': 'Fences',\n",
    "    'צמחייה': 'Vegetation',\n",
    "    'הערות': 'Remarks',\n",
    "    'point_type': 'Point_Type'\n",
    "}\n",
    "\n",
    "Behaviors_mapping = {\n",
    "    'זמןסיוםמהמערכת' : 'End_Time',\n",
    "    'יישוב': 'City',\n",
    "    'סמל_יישוב': 'City_Code',\n",
    "    'שעתהגעהלנקודה': 'Arrival_Time',\n",
    "    'נ.צכתובת': 'Coordinate_Address',\n",
    "    'כתובתתיאורמיקוםנקודתהמדידה': 'Measurement_Point_Description',\n",
    "}\n"
   ]
  },
  {
   "cell_type": "code",
   "execution_count": 5,
   "id": "352e3b58-5924-4a2c-9b1f-78202923a1f9",
   "metadata": {},
   "outputs": [],
   "source": [
    "bins_renamed = Bins.rename(columns=bins_mapping)\n",
    "Behaviors_renamed = Behaviors.rename(columns=Behaviors_mapping)\n",
    "infrastructures_renamed = Infrastructures.rename(columns=infrastructures_mapping)"
   ]
  },
  {
   "cell_type": "code",
   "execution_count": 6,
   "id": "8b63b56d-f1a9-458e-a146-86bf21405ff3",
   "metadata": {},
   "outputs": [],
   "source": [
    "Behaviors_renamed = Behaviors_renamed.drop(['City','gender','age','point_type','Arrival_Time','Coordinate_Address','time','parit','teortext','סוגנקודתהמדידהתשובה','Index1', 'heged1','heged2','heged3','heged4','heged5','heged6', 'heged7', 'heged8', 'heged9', 'heged10', 'heged11', 'heged12','heged13'], axis =1)\n",
    "infrastructures_renamed = infrastructures_renamed.drop(['City', 'Arrival_Time','Coordinate_Address','Remarks'], axis=1)"
   ]
  },
  {
   "cell_type": "code",
   "execution_count": 7,
   "id": "b44ac9d9-f799-4d02-b178-83d16fd35aaa",
   "metadata": {},
   "outputs": [],
   "source": [
    "Behaviors_renamed['teorshlilihiyuvi'] = Behaviors_renamed['teorshlilihiyuvi'].replace('שלילית', 'negative')\n",
    "Behaviors_renamed['teorshlilihiyuvi'] = Behaviors_renamed['teorshlilihiyuvi'].replace('חיובית', 'positive')"
   ]
  },
  {
   "cell_type": "code",
   "execution_count": 8,
   "id": "1a3f0b90-3085-45aa-a840-ffce4196524a",
   "metadata": {},
   "outputs": [],
   "source": [
    "Behaviors_renamed['Measurement_Point_Description'] = Behaviors_renamed['Measurement_Point_Description'].str.replace(r'[A-Za-z0-9_\\n]', '', regex=True)\n",
    "infrastructures_renamed['Measurement_Point_Description'] = infrastructures_renamed['Measurement_Point_Description'].str.replace(r'[A-Za-z0-9_\\n]', '', regex=True)"
   ]
  },
  {
   "cell_type": "code",
   "execution_count": 9,
   "id": "c58a0efc-92b0-4e07-add9-dcadc6ee3cf7",
   "metadata": {},
   "outputs": [],
   "source": [
    "Behaviors_renamed['End_Time'] = pd.to_datetime(Behaviors_renamed['End_Time'])\n",
    "Behaviors_renamed['Date'] = Behaviors_renamed['End_Time'].dt.date\n",
    "\n",
    "infrastructures_renamed['End_Time'] = pd.to_datetime(infrastructures_renamed['End_Time'])\n",
    "infrastructures_renamed['Date'] = infrastructures_renamed['End_Time'].dt.date\n"
   ]
  },
  {
   "cell_type": "code",
   "execution_count": 10,
   "id": "26ae8191-0cc2-43aa-a53a-5d1a8daaf826",
   "metadata": {
    "scrolled": true
   },
   "outputs": [],
   "source": [
    "Behaviors_renamed = Behaviors_renamed.drop(['End_Time'], axis =1)\n",
    "infrastructures_renamed = infrastructures_renamed.drop(['End_Time'], axis =1)"
   ]
  },
  {
   "cell_type": "markdown",
   "id": "dc08b972-6ba3-47b5-bc72-072dfb9596c9",
   "metadata": {},
   "source": [
    "From the Behaviors data, we want to know how many negative and positive behaviors there is per point and date"
   ]
  },
  {
   "cell_type": "code",
   "execution_count": 11,
   "id": "889b1ed4-4017-4ee8-a754-152c9b8725fe",
   "metadata": {},
   "outputs": [
    {
     "data": {
      "text/plain": [
       "City_Code                          0\n",
       "Measurement_Point_Description      0\n",
       "teorshlilihiyuvi                 245\n",
       "Date                               0\n",
       "dtype: int64"
      ]
     },
     "execution_count": 11,
     "metadata": {},
     "output_type": "execute_result"
    }
   ],
   "source": [
    "Behaviors_renamed.isnull().sum()"
   ]
  },
  {
   "cell_type": "code",
   "execution_count": 12,
   "id": "31de910c-23ee-4484-96fe-478bacbacc77",
   "metadata": {},
   "outputs": [],
   "source": [
    "Behaviors_drops = Behaviors_renamed.dropna()\n",
    "\n",
    "# we dont have a way to fill nulls in the main column "
   ]
  },
  {
   "cell_type": "code",
   "execution_count": 13,
   "id": "f9770e5e-a297-4a75-bfdb-3536473fe3c4",
   "metadata": {},
   "outputs": [],
   "source": [
    "# count how many negative / positive per row, and fill 0 where we dont have a data for negative / positive for a row\n",
    "aggregated_behaviors = Behaviors_renamed.groupby([\"City_Code\", \"Measurement_Point_Description\", \"Date\"])[\"teorshlilihiyuvi\"].value_counts().unstack(fill_value=0).reset_index()\n"
   ]
  },
  {
   "cell_type": "code",
   "execution_count": 14,
   "id": "92b90027-c338-4a5c-a916-8e4fa86571af",
   "metadata": {},
   "outputs": [
    {
     "data": {
      "text/html": [
       "<div>\n",
       "<style scoped>\n",
       "    .dataframe tbody tr th:only-of-type {\n",
       "        vertical-align: middle;\n",
       "    }\n",
       "\n",
       "    .dataframe tbody tr th {\n",
       "        vertical-align: top;\n",
       "    }\n",
       "\n",
       "    .dataframe thead th {\n",
       "        text-align: right;\n",
       "    }\n",
       "</style>\n",
       "<table border=\"1\" class=\"dataframe\">\n",
       "  <thead>\n",
       "    <tr style=\"text-align: right;\">\n",
       "      <th>teorshlilihiyuvi</th>\n",
       "      <th>City_Code</th>\n",
       "      <th>Measurement_Point_Description</th>\n",
       "      <th>Date</th>\n",
       "      <th>negative</th>\n",
       "      <th>positive</th>\n",
       "    </tr>\n",
       "  </thead>\n",
       "  <tbody>\n",
       "    <tr>\n",
       "      <th>0</th>\n",
       "      <td>2</td>\n",
       "      <td>אור הגנוז</td>\n",
       "      <td>2021-07-20</td>\n",
       "      <td>8</td>\n",
       "      <td>3</td>\n",
       "    </tr>\n",
       "    <tr>\n",
       "      <th>1</th>\n",
       "      <td>2</td>\n",
       "      <td>אשכול גנים טפחות</td>\n",
       "      <td>2021-07-20</td>\n",
       "      <td>1</td>\n",
       "      <td>2</td>\n",
       "    </tr>\n",
       "    <tr>\n",
       "      <th>2</th>\n",
       "      <td>2</td>\n",
       "      <td>בר יוחאי - מרכז הישוב</td>\n",
       "      <td>2021-07-21</td>\n",
       "      <td>2</td>\n",
       "      <td>0</td>\n",
       "    </tr>\n",
       "    <tr>\n",
       "      <th>3</th>\n",
       "      <td>2</td>\n",
       "      <td>גן שעשועים אור הגנוז</td>\n",
       "      <td>2021-07-20</td>\n",
       "      <td>4</td>\n",
       "      <td>0</td>\n",
       "    </tr>\n",
       "    <tr>\n",
       "      <th>4</th>\n",
       "      <td>2</td>\n",
       "      <td>חנייה קבר הרשב״י</td>\n",
       "      <td>2021-07-20</td>\n",
       "      <td>12</td>\n",
       "      <td>7</td>\n",
       "    </tr>\n",
       "    <tr>\n",
       "      <th>...</th>\n",
       "      <td>...</td>\n",
       "      <td>...</td>\n",
       "      <td>...</td>\n",
       "      <td>...</td>\n",
       "      <td>...</td>\n",
       "    </tr>\n",
       "    <tr>\n",
       "      <th>1493</th>\n",
       "      <td>9600</td>\n",
       "      <td>משה שרת</td>\n",
       "      <td>2021-07-20</td>\n",
       "      <td>2</td>\n",
       "      <td>1</td>\n",
       "    </tr>\n",
       "    <tr>\n",
       "      <th>1494</th>\n",
       "      <td>9600</td>\n",
       "      <td>פארק אשר</td>\n",
       "      <td>2021-07-21</td>\n",
       "      <td>4</td>\n",
       "      <td>1</td>\n",
       "    </tr>\n",
       "    <tr>\n",
       "      <th>1495</th>\n",
       "      <td>9600</td>\n",
       "      <td>פארק סביוני ים</td>\n",
       "      <td>2021-07-22</td>\n",
       "      <td>1</td>\n",
       "      <td>2</td>\n",
       "    </tr>\n",
       "    <tr>\n",
       "      <th>1496</th>\n",
       "      <td>9600</td>\n",
       "      <td>רחוב מגורים</td>\n",
       "      <td>2021-07-21</td>\n",
       "      <td>1</td>\n",
       "      <td>0</td>\n",
       "    </tr>\n",
       "    <tr>\n",
       "      <th>1497</th>\n",
       "      <td>9600</td>\n",
       "      <td>רחוב מסחרי</td>\n",
       "      <td>2021-07-20</td>\n",
       "      <td>6</td>\n",
       "      <td>1</td>\n",
       "    </tr>\n",
       "  </tbody>\n",
       "</table>\n",
       "<p>1498 rows × 5 columns</p>\n",
       "</div>"
      ],
      "text/plain": [
       "teorshlilihiyuvi  City_Code Measurement_Point_Description        Date  \\\n",
       "0                         2                     אור הגנוז  2021-07-20   \n",
       "1                         2              אשכול גנים טפחות  2021-07-20   \n",
       "2                         2         בר יוחאי - מרכז הישוב  2021-07-21   \n",
       "3                         2          גן שעשועים אור הגנוז  2021-07-20   \n",
       "4                         2              חנייה קבר הרשב״י  2021-07-20   \n",
       "...                     ...                           ...         ...   \n",
       "1493                   9600                       משה שרת  2021-07-20   \n",
       "1494                   9600                      פארק אשר  2021-07-21   \n",
       "1495                   9600                פארק סביוני ים  2021-07-22   \n",
       "1496                   9600                   רחוב מגורים  2021-07-21   \n",
       "1497                   9600                    רחוב מסחרי  2021-07-20   \n",
       "\n",
       "teorshlilihiyuvi  negative  positive  \n",
       "0                        8         3  \n",
       "1                        1         2  \n",
       "2                        2         0  \n",
       "3                        4         0  \n",
       "4                       12         7  \n",
       "...                    ...       ...  \n",
       "1493                     2         1  \n",
       "1494                     4         1  \n",
       "1495                     1         2  \n",
       "1496                     1         0  \n",
       "1497                     6         1  \n",
       "\n",
       "[1498 rows x 5 columns]"
      ]
     },
     "execution_count": 14,
     "metadata": {},
     "output_type": "execute_result"
    }
   ],
   "source": [
    "aggregated_behaviors"
   ]
  },
  {
   "cell_type": "markdown",
   "id": "1a598b6d-5b88-462e-8481-54843a4fac21",
   "metadata": {},
   "source": [
    "For the infrastructures columns, we renamd the values to english for later use."
   ]
  },
  {
   "cell_type": "code",
   "execution_count": 15,
   "id": "e377703e-07e1-4986-a373-bfa89a8a8137",
   "metadata": {},
   "outputs": [],
   "source": [
    "status_mapping_dict = {\n",
    "    'לא תקין (מוזנח)': 'poor',\n",
    "    'סביר': 'good',\n",
    "    'תקין (מטופח)': 'great',\n",
    "    'לא רלוונטי':  pd.NA \n",
    "}\n",
    "\n",
    "columns_to_replace = [\"Sidewalk\", \"Curb\", \"Fences\", \"Vegetation\"]\n",
    "\n",
    "infrastructures_renamed[columns_to_replace]=infrastructures_renamed[columns_to_replace].replace(status_mapping_dict)\n"
   ]
  },
  {
   "cell_type": "code",
   "execution_count": 24,
   "id": "3bde3eeb",
   "metadata": {},
   "outputs": [],
   "source": [
    "most_common = infrastructures_renamed.groupby('City_Code')[[\"Sidewalk\", \"Curb\", \"Fences\", \"Vegetation\"]].agg(\n",
    "    lambda x: x.mode().iloc[0] if not x.mode().empty else None)\n",
    "for col in ['Sidewalk', 'Curb', 'Fences', 'Vegetation']:\n",
    "    infrastructures_renamed[col] = infrastructures_renamed.apply(\n",
    "        lambda row: most_common.at[row['City_Code'], col] \n",
    "        if pd.isna(row[col]) and row['City_Code'] in most_common.index \n",
    "        else row[col], axis=1\n",
    "    )"
   ]
  },
  {
   "cell_type": "code",
   "execution_count": 33,
   "id": "21c4bfdc",
   "metadata": {},
   "outputs": [],
   "source": [
    "data_for_unsupervised = infrastructures_renamed.dropna()"
   ]
  },
  {
   "cell_type": "code",
   "execution_count": 34,
   "id": "19f0b816",
   "metadata": {},
   "outputs": [
    {
     "data": {
      "text/plain": [
       "City_Code                        0\n",
       "Measurement_Point_Description    0\n",
       "General_Impression               0\n",
       "Sidewalk                         0\n",
       "Curb                             0\n",
       "Fences                           0\n",
       "Vegetation                       0\n",
       "Point_Type                       0\n",
       "Date                             0\n",
       "negative                         0\n",
       "positive                         0\n",
       "dtype: int64"
      ]
     },
     "execution_count": 34,
     "metadata": {},
     "output_type": "execute_result"
    }
   ],
   "source": [
    "data_for_unsupervised = pd.merge(data_for_unsupervised, aggregated_behaviors, on=[\n",
    "    \"City_Code\", \"Measurement_Point_Description\", \"Date\"], how='inner')\t"
   ]
  },
  {
   "cell_type": "code",
   "execution_count": 39,
   "id": "c69fa046",
   "metadata": {
    "scrolled": true
   },
   "outputs": [
    {
     "data": {
      "image/png": "[encoded data removed]",
      "text/plain": [
       "<Figure size 576x432 with 1 Axes>"
      ]
     },
     "metadata": {
      "needs_background": "light"
     },
     "output_type": "display_data"
    },
    {
     "data": {
      "image/png": "[encoded data removed]",
      "text/plain": [
       "<Figure size 576x432 with 1 Axes>"
      ]
     },
     "metadata": {
      "needs_background": "light"
     },
     "output_type": "display_data"
    }
   ],
   "source": [
    "for col in ['positive', 'negative']:\n",
    "    plt.figure(figsize=(8, 6))\n",
    "    sns.boxplot(data=data_for_unsupervised, y=col)  \n",
    "    plt.show()\n",
    "## Doesn't seem like a daramatic outlires"
   ]
  },
  {
   "cell_type": "code",
   "execution_count": 43,
   "id": "d8008651",
   "metadata": {},
   "outputs": [],
   "source": [
    "for col in data_for_unsupervised.columns:\n",
    "    if col not in ['Measurement_Point_Description', 'Point_Type']:\n",
    "        if data_for_unsupervised[col].dtype not in ['int64', 'float64', 'datetime64[ns]']:\n",
    "            data_for_unsupervised[col] = data_for_unsupervised[col].astype('category')"
   ]
  },
  {
   "cell_type": "code",
   "execution_count": 46,
   "id": "0996adfb",
   "metadata": {},
   "outputs": [
    {
     "data": {
      "text/plain": [
       "924"
      ]
     },
     "execution_count": 46,
     "metadata": {},
     "output_type": "execute_result"
    }
   ],
   "source": [
    "#### SAME AS FOR CLASSIFICATIONS ####\n",
    "\n",
    "## Dates Fetching\n",
    "data_for_unsupervised['Day_Of_Week'] = data_for_unsupervised.Date.dt.dayofweek\n",
    "data_for_unsupervised['Month'] = data_for_unsupervised.Date.dt.month\n",
    "\n",
    "data_for_unsupervised = data_for_unsupervised.drop(['Date'], axis=1)\n",
    "data_for_unsupervised[['Month', 'Day_Of_Week']] = data_for_unsupervised[['Month', 'Day_Of_Week']] = data_for_unsupervised[['Month', 'Day_Of_Week']].astype('category')\n",
    "\n",
    "## Fetching Point_type\n",
    "data_for_unsupervised[['Point_Type']] = data_for_unsupervised[['Point_Type']] = data_for_unsupervised[['Point_Type']].astype('category')\n",
    "\n",
    "## City Fetching - Avoiding OverFitting\n",
    "economical_status = pd.read_excel(\"economical_status.xlsx\")  \n",
    "economical_status = economical_status[economical_status['Unnamed: 2'].notnull()].reset_index()\n",
    "economical_status = economical_status.iloc[1:, [2, 7, 9]]\n",
    "columns_rename_e = ['City_Code','Area_code', 'Economical_Rate']\n",
    "economical_status.columns = columns_rename_e\n",
    "economical_status['Economical_Rate'] = economical_status['Economical_Rate'].astype('Float64')\n",
    "economical_status = economical_status.groupby(['City_Code'], as_index=False).agg({'Economical_Rate': 'mean'})\n",
    "economical_status\n",
    "\n",
    "## City Fetching - Avoiding OverFitting\n",
    "location_rank = pd.read_excel(\"location_rank.xlsx\")  \n",
    "location_rank = location_rank.iloc[6:, [3, 9]]\n",
    "columns_rename_l = ['City_Code','Location_Rate']\n",
    "location_rank.columns = columns_rename_l\n",
    "location_rank['Location_Rate'] = location_rank['Location_Rate'].astype('Float64')\n",
    "location_rank = location_rank.groupby(['City_Code'], as_index=False).agg({'Location_Rate': 'mean'})\n",
    "location_rank\n",
    "\n",
    "## City Fetching - Avoiding OverFitting\n",
    "data_for_unsupervised = pd.merge(data_for_unsupervised, economical_status, on=[\n",
    "    \"City_Code\"], how='inner')\n",
    "data_for_unsupervised = pd.merge(data_for_unsupervised, location_rank, on=[\n",
    "    \"City_Code\"], how='inner')\n",
    "len(data_for_unsupervised)"
   ]
  },
  {
   "cell_type": "code",
   "execution_count": 47,
   "id": "ab0a4549",
   "metadata": {},
   "outputs": [
    {
     "data": {
      "text/plain": [
       "Other              662\n",
       "Park               108\n",
       "Commercial          66\n",
       "Popular             51\n",
       "Main                22\n",
       "Public Facility     12\n",
       "Transportation       3\n",
       "Name: Street_Group, dtype: int64"
      ]
     },
     "execution_count": 47,
     "metadata": {},
     "output_type": "execute_result"
    }
   ],
   "source": [
    "## Street Fetching - Avoiding OverFitting \n",
    "def classify_street(street):\n",
    "    if any(keyword in street for keyword in ['דיין', 'הרצל', 'גוריון', 'רוטשילד', 'בגין', 'דיזינגוף']):\n",
    "        return 'Main'\n",
    "    if any(keyword in street for keyword in ['פארק', 'גן']):\n",
    "        return 'Park'\n",
    "    if any(keyword in street for keyword in ['קניון', 'מרכז מסחרי', 'שוק']):\n",
    "        return 'Commercial'\n",
    "    if any(keyword in street for keyword in ['תחנת דלק', 'תחנת רכבת']):\n",
    "        return 'Transportation'\n",
    "    if any(keyword in street for keyword in ['בית ספר', 'מתנ\"ס', 'קופת חולים']):\n",
    "        return 'Public Facility'\n",
    "    if any(keyword in street for keyword in [\n",
    "    'מכללת' , 'שדרה', 'דרך', 'מרכז', 'מכללה', 'טיילת', 'כיכר']):  \n",
    "        return 'Popular'\n",
    "    return 'Other'\n",
    "\n",
    "data_for_unsupervised['Street_Group'] = data_for_unsupervised['Measurement_Point_Description'].apply(lambda x: classify_street(x))\n",
    "\n",
    "data_for_unsupervised['Street_Group'].value_counts() ## We will try to see the result of the model with the 'Other' group.\n",
    "## if the result will be poor, we will try to delete it."
   ]
  },
  {
   "cell_type": "code",
   "execution_count": 51,
   "id": "9431c676",
   "metadata": {},
   "outputs": [
    {
     "data": {
      "text/html": [
       "<div>\n",
       "<style scoped>\n",
       "    .dataframe tbody tr th:only-of-type {\n",
       "        vertical-align: middle;\n",
       "    }\n",
       "\n",
       "    .dataframe tbody tr th {\n",
       "        vertical-align: top;\n",
       "    }\n",
       "\n",
       "    .dataframe thead th {\n",
       "        text-align: right;\n",
       "    }\n",
       "</style>\n",
       "<table border=\"1\" class=\"dataframe\">\n",
       "  <thead>\n",
       "    <tr style=\"text-align: right;\">\n",
       "      <th></th>\n",
       "      <th>City_Code</th>\n",
       "      <th>Measurement_Point_Description</th>\n",
       "      <th>General_Impression</th>\n",
       "      <th>Sidewalk</th>\n",
       "      <th>Curb</th>\n",
       "      <th>Fences</th>\n",
       "      <th>Vegetation</th>\n",
       "      <th>Point_Type</th>\n",
       "      <th>negative</th>\n",
       "      <th>positive</th>\n",
       "      <th>Street_Group</th>\n",
       "      <th>Day_Of_Week</th>\n",
       "      <th>Month</th>\n",
       "      <th>Economical_Rate</th>\n",
       "      <th>Location_Rate</th>\n",
       "    </tr>\n",
       "  </thead>\n",
       "  <tbody>\n",
       "    <tr>\n",
       "      <th>0</th>\n",
       "      <td>8500</td>\n",
       "      <td>רחוב זכריה</td>\n",
       "      <td>3</td>\n",
       "      <td>good</td>\n",
       "      <td>good</td>\n",
       "      <td>good</td>\n",
       "      <td>good</td>\n",
       "      <td>רחוב מגורים</td>\n",
       "      <td>0</td>\n",
       "      <td>6</td>\n",
       "      <td>Other</td>\n",
       "      <td>2</td>\n",
       "      <td>7</td>\n",
       "      <td>-0.535233</td>\n",
       "      <td>1.272301</td>\n",
       "    </tr>\n",
       "    <tr>\n",
       "      <th>1</th>\n",
       "      <td>8500</td>\n",
       "      <td>בן גוריון</td>\n",
       "      <td>3</td>\n",
       "      <td>poor</td>\n",
       "      <td>good</td>\n",
       "      <td>good</td>\n",
       "      <td>poor</td>\n",
       "      <td>רחוב מגורים</td>\n",
       "      <td>5</td>\n",
       "      <td>0</td>\n",
       "      <td>Main</td>\n",
       "      <td>0</td>\n",
       "      <td>7</td>\n",
       "      <td>-0.535233</td>\n",
       "      <td>1.272301</td>\n",
       "    </tr>\n",
       "    <tr>\n",
       "      <th>2</th>\n",
       "      <td>8500</td>\n",
       "      <td>רחוב בן צבי</td>\n",
       "      <td>2</td>\n",
       "      <td>great</td>\n",
       "      <td>good</td>\n",
       "      <td>great</td>\n",
       "      <td>poor</td>\n",
       "      <td>רחוב מגורים</td>\n",
       "      <td>11</td>\n",
       "      <td>1</td>\n",
       "      <td>Other</td>\n",
       "      <td>0</td>\n",
       "      <td>7</td>\n",
       "      <td>-0.535233</td>\n",
       "      <td>1.272301</td>\n",
       "    </tr>\n",
       "    <tr>\n",
       "      <th>3</th>\n",
       "      <td>8500</td>\n",
       "      <td>יהודה שטיין כיכר גיבורי ישראל</td>\n",
       "      <td>2</td>\n",
       "      <td>great</td>\n",
       "      <td>good</td>\n",
       "      <td>poor</td>\n",
       "      <td>great</td>\n",
       "      <td>רחוב מגורים</td>\n",
       "      <td>17</td>\n",
       "      <td>3</td>\n",
       "      <td>Popular</td>\n",
       "      <td>0</td>\n",
       "      <td>7</td>\n",
       "      <td>-0.535233</td>\n",
       "      <td>1.272301</td>\n",
       "    </tr>\n",
       "    <tr>\n",
       "      <th>4</th>\n",
       "      <td>8500</td>\n",
       "      <td>רחוב הצנחנים</td>\n",
       "      <td>4</td>\n",
       "      <td>poor</td>\n",
       "      <td>good</td>\n",
       "      <td>great</td>\n",
       "      <td>poor</td>\n",
       "      <td>רחוב מגורים</td>\n",
       "      <td>7</td>\n",
       "      <td>2</td>\n",
       "      <td>Other</td>\n",
       "      <td>1</td>\n",
       "      <td>7</td>\n",
       "      <td>-0.535233</td>\n",
       "      <td>1.272301</td>\n",
       "    </tr>\n",
       "  </tbody>\n",
       "</table>\n",
       "</div>"
      ],
      "text/plain": [
       "   City_Code  Measurement_Point_Description  General_Impression Sidewalk  \\\n",
       "0       8500                     רחוב זכריה                   3     good   \n",
       "1       8500                      בן גוריון                   3     poor   \n",
       "2       8500                    רחוב בן צבי                   2    great   \n",
       "3       8500  יהודה שטיין כיכר גיבורי ישראל                   2    great   \n",
       "4       8500                   רחוב הצנחנים                   4     poor   \n",
       "\n",
       "   Curb Fences Vegetation   Point_Type  negative  positive Street_Group  \\\n",
       "0  good   good       good  רחוב מגורים         0         6        Other   \n",
       "1  good   good       poor  רחוב מגורים         5         0         Main   \n",
       "2  good  great       poor  רחוב מגורים        11         1        Other   \n",
       "3  good   poor      great  רחוב מגורים        17         3      Popular   \n",
       "4  good  great       poor  רחוב מגורים         7         2        Other   \n",
       "\n",
       "  Day_Of_Week Month  Economical_Rate  Location_Rate  \n",
       "0           2     7        -0.535233       1.272301  \n",
       "1           0     7        -0.535233       1.272301  \n",
       "2           0     7        -0.535233       1.272301  \n",
       "3           0     7        -0.535233       1.272301  \n",
       "4           1     7        -0.535233       1.272301  "
      ]
     },
     "execution_count": 51,
     "metadata": {},
     "output_type": "execute_result"
    }
   ],
   "source": [
    "data_for_unsupervised.head()"
   ]
  }
 ],
 "metadata": {
  "kernelspec": {
   "display_name": "Python 3",
   "language": "python",
   "name": "python3"
  },
  "language_info": {
   "codemirror_mode": {
    "name": "ipython",
    "version": 3
   },
   "file_extension": ".py",
   "mimetype": "text/x-python",
   "name": "python",
   "nbconvert_exporter": "python",
   "pygments_lexer": "ipython3",
   "version": "3.8.8"
  }
 },
 "nbformat": 4,
 "nbformat_minor": 5
}
