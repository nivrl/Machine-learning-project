{
 "cells": [
  {
   "cell_type": "markdown",
   "id": "d45e6401",
   "metadata": {},
   "source": [
    "## ML Project\n",
    "#### Submitted By:\n",
    "- **Niv Harel**: 208665869\n",
    "- **Eytan Muzafi**: 209160308\n",
    "\n",
    "#### Github: [https://github.com/nivrl/Machine-learning-project]"
   ]
  },
  {
   "cell_type": "markdown",
   "id": "bf937b97",
   "metadata": {},
   "source": [
    "#### Imports"
   ]
  },
  {
   "cell_type": "code",
   "execution_count": 1,
   "id": "49c99b9c",
   "metadata": {},
   "outputs": [],
   "source": [
    "import pandas as pd\n",
    "from datetime import datetime\n",
    "import numpy as np\n",
    "import re\n",
    "import requests\n",
    "import seaborn as sns\n",
    "import matplotlib.pyplot as plt\n",
    "\n",
    "from sklearn.linear_model import ElasticNet\n",
    "from sklearn.model_selection import cross_val_score, GridSearchCV\n",
    "from sklearn.metrics import mean_squared_error\n",
    "from sklearn.preprocessing import StandardScaler, OneHotEncoder\n",
    "\n",
    "import math"
   ]
  },
  {
   "cell_type": "markdown",
   "id": "b44c1e56",
   "metadata": {},
   "source": [
    "#### Reading and understanding the dataset"
   ]
  },
  {
   "cell_type": "code",
   "execution_count": 2,
   "id": "94fbae46",
   "metadata": {},
   "outputs": [],
   "source": [
    "Behaviors= pd.read_excel(\"Behaviors.xlsx\",index_col=0)  \n",
    "Bins= pd.read_excel(\"Bins.xlsx\",index_col=0)  \n",
    "Infrastructures= pd.read_excel(\"Infrastructures.xlsx\",index_col=0)  \n",
    "Dirt_Condition= pd.read_excel(\"Dirt_Condition.xlsx\",index_col=0)  "
   ]
  },
  {
   "cell_type": "code",
   "execution_count": 3,
   "id": "317ff021-ea4c-4daa-a7ef-7caeafd46bfd",
   "metadata": {},
   "outputs": [],
   "source": [
    "#Infrastructures.head()"
   ]
  },
  {
   "cell_type": "code",
   "execution_count": 4,
   "id": "2a3fd6de-b441-4539-8383-509d1611170b",
   "metadata": {
    "scrolled": true
   },
   "outputs": [],
   "source": [
    "#Dirt_Condition.head()"
   ]
  },
  {
   "cell_type": "code",
   "execution_count": 5,
   "id": "90b5660b-8b67-4699-ab86-20d734b54d36",
   "metadata": {},
   "outputs": [
    {
     "data": {
      "text/plain": [
       "['יישוב',\n",
       " 'סמל יישוב',\n",
       " 'שעת הגעה לנקודה',\n",
       " 'נ.צ כתובת',\n",
       " 'כתובת תיאור מיקום נקודת המדידה',\n",
       " 'סוג נקודת המדידה',\n",
       " 'בדלי סיגריות',\n",
       " 'קופסאות סיגריות',\n",
       " 'מסכות כירורגיות',\n",
       " 'מכלי משקה למיניהם',\n",
       " 'פקקים של מכלי משקה',\n",
       " 'אריזות מזון Take Away נייר',\n",
       " 'אריזות מזון Take Away פלסטיק',\n",
       " 'צלחות חדפ',\n",
       " 'סכום חדפ',\n",
       " 'כוסות שתייה קרה חדפ',\n",
       " 'כוסות שתייה חמה חדפ',\n",
       " 'אריזות של חטיפים',\n",
       " 'זכוכית לא מכלי משקה או לא ניתן לזיהוי',\n",
       " 'נייר אחר לא אריזות מזון',\n",
       " 'פלסטיק אחר שקיות פלסטיק ורכיבי פלסטיק שאינם מכלי משקה אריזות מזון ומשקאות',\n",
       " 'פסולת אורגנית',\n",
       " 'פסולת בלתי חוקית שקית אשפה מלאה שהושלכה ברחוב',\n",
       " 'פסולת אחרת למשל בגדים סוללות חומרי פרסום וכל מה שלא קוטלג בקבוצות האחרות',\n",
       " 'צואת כלבים',\n",
       " 'כתמי מסטיק',\n",
       " 'פריט פסולת גדול',\n",
       " 'אריזות קרטון',\n",
       " 'גרפיטי',\n",
       " 'אחר1',\n",
       " 'אחר2',\n",
       " 'בנקודת המדידה נאספו x שקיות של פרטי לכלוך',\n",
       " 'כמה אנשים עברו בנקודת המדידה בזמן התצפית']"
      ]
     },
     "execution_count": 5,
     "metadata": {},
     "output_type": "execute_result"
    }
   ],
   "source": [
    "Dirt_Condition.columns.tolist()"
   ]
  },
  {
   "cell_type": "code",
   "execution_count": 6,
   "id": "1c344941-1ef7-489c-9c70-06dbb24a40eb",
   "metadata": {
    "scrolled": true
   },
   "outputs": [
    {
     "data": {
      "text/plain": [
       "['יישוב',\n",
       " 'סמל_יישוב',\n",
       " 'שעתהגעהלנקודה',\n",
       " 'נ.צכתובת',\n",
       " 'כתובתתיאורמיקוםנקודתהמדידה',\n",
       " 'התרשמותכלליתמנקודתהמדידה',\n",
       " 'מדרכה',\n",
       " 'אבנישפה',\n",
       " 'גדרות',\n",
       " 'צמחייה',\n",
       " 'הערות',\n",
       " 'point_type']"
      ]
     },
     "execution_count": 6,
     "metadata": {},
     "output_type": "execute_result"
    }
   ],
   "source": [
    "Infrastructures.columns.tolist()"
   ]
  },
  {
   "cell_type": "code",
   "execution_count": 7,
   "id": "f06994e8-1bf3-4a4a-874f-bf40fa7848ff",
   "metadata": {},
   "outputs": [],
   "source": [
    "Infrastructures = Infrastructures.reset_index()\n",
    "Dirt_Condition = Dirt_Condition.reset_index()\n",
    "Bins = Bins.reset_index()"
   ]
  },
  {
   "cell_type": "markdown",
   "id": "2d148fb1",
   "metadata": {},
   "source": [
    "#### Creating dictionaries for columns renaming "
   ]
  },
  {
   "cell_type": "code",
   "execution_count": 8,
   "id": "2b09053f-ec0d-4050-9bd6-43b40aa2de6d",
   "metadata": {},
   "outputs": [],
   "source": [
    "bins_mapping = {\n",
    "    'זמן סיום מהמערכת' : 'End_Time',\n",
    "    'יישוב': 'City',\n",
    "    'סמל_יישוב': 'City_Code',\n",
    "    'שעת הגעה לנקודה': 'Arrival_Time',\n",
    "    'נ.צ כתובת': 'Coordinate_Address',\n",
    "    'כתובת תיאור מיקום נקודת המדידה': 'Measurement_Point_Description',\n",
    "    'סוגנ קודת המדידה': 'Point_Type',\n",
    "    'האם יש פחים בנקודת המדידה': 'Has_Bins',\n",
    "    'כמה פחים יש בנקודת המדידה': 'Bin_Count',\n",
    "    'סוג': 'Type',\n",
    "    'מצב הפח': 'Bin_Condition',\n",
    "    'מפלס הפסולת בפח': 'Waste_Level',\n",
    "    'מפלס הפסולת בפח במספר': 'Waste_Level_Number'\n",
    "}\n",
    "\n",
    "dirt_condition_mapping = {\n",
    "    'זמן סיום מהמערכת' : 'End_Time',\n",
    "    'יישוב': 'City',\n",
    "    'סמל יישוב': 'City_Code',\n",
    "    'שעת הגעה לנקודה': 'Arrival_Time',\n",
    "    'נ.צ כתובת': 'Coordinate_Address',\n",
    "    'כתובת תיאור מיקום נקודת המדידה': 'Measurement_Point_Description',\n",
    "    'סוג נקודת המדידה': 'Point_Type',\n",
    "    'בדלי סיגריות': 'Cigarette_Butts',\n",
    "    'קופסאות סיגריות': 'Cigarette_Boxes',\n",
    "    'מסכות כירורגיות': 'Surgical_Masks',\n",
    "    'מכלי משקה למיניהם': 'Drink_Containers',\n",
    "    'פקקים של מכלי משקה': 'Drink_Container_Caps',\n",
    "    'אריזות מזון Take Away נייר': 'Paper_Takeaway_Packaging',\n",
    "    'אריזות מזון Take Away פלסטיק': 'Plastic_Takeaway_Packaging',\n",
    "    'צלחות חדפ': 'Disposable_Plates',\n",
    "    'סכום חדפ': 'Disposable_Cutlery',\n",
    "    'כוסות שתייה קרה חדפ': 'Disposable_Cold_Drink_Cups',\n",
    "    'כוסות שתייה חמה חדפ': 'Disposable_Hot_Drink_Cups',\n",
    "    'אריזות של חטיפים': 'Snack_Packaging',\n",
    "    'זכוכית לא מכלי משקה או לא ניתן לזיהוי': 'Non_Bottle_Glass',\n",
    "    'נייר אחר לא אריזות מזון': 'Other_Paper',\n",
    "    'פלסטיק אחר שקיות פלסטיק ורכיבי פלסטיק שאינם מכלי משקה אריזות מזון ומשקאות': 'Other_Plastic',\n",
    "    'פסולת אורגנית': 'Organic_Waste',\n",
    "    'פסולת בלתי חוקית שקית אשפה מלאה שהושלכה ברחוב': 'Illegal_Dumping',\n",
    "    'פסולת אחרת למשל בגדים סוללות חומרי פרסום וכל מה שלא קוטלג בקבוצות האחרות': 'Other_Waste',\n",
    "    'צואת כלבים': 'Dog_Feces',\n",
    "    'כתמי מסטיק': 'Gum_Stains',\n",
    "    'פריט פסולת גדול': 'Large_Waste_Item',\n",
    "    'אריזות קרטון': 'Cardboard_Packaging',\n",
    "    'גרפיטי': 'Graffiti',\n",
    "    'אחר1': 'Other1',\n",
    "    'אחר2': 'Other2',\n",
    "    'בנקודת המדידה נאספו x שקיות של פרטי לכלוך': 'Bags_Collected',\n",
    "    'כמה אנשים עברו בנקודת המדידה בזמן התצפית': 'People_Passed_During_Observation'\n",
    "}\n",
    "\n",
    "infrastructures_mapping = {\n",
    "    'זמןסיוםמהמערכת' : 'End_Time',\n",
    "    'יישוב': 'City',\n",
    "    'סמל_יישוב': 'City_Code',\n",
    "    'שעתהגעהלנקודה': 'Arrival_Time',\n",
    "    'נ.צכתובת': 'Coordinate_Address',\n",
    "    'כתובתתיאורמיקוםנקודתהמדידה': 'Measurement_Point_Description',\n",
    "    'התרשמותכלליתמנקודתהמדידה': 'General_Impression',\n",
    "    'מדרכה': 'Sidewalk',\n",
    "    'אבנישפה': 'Curb',\n",
    "    'גדרות': 'Fences',\n",
    "    'צמחייה': 'Vegetation',\n",
    "    'הערות': 'Remarks',\n",
    "    'point_type': 'Point_Type'\n",
    "}\n",
    "\n"
   ]
  },
  {
   "cell_type": "code",
   "execution_count": 9,
   "id": "fd282502-38ef-45c6-a1d0-e1448895aaa2",
   "metadata": {},
   "outputs": [],
   "source": [
    "bins_renamed = Bins.rename(columns=bins_mapping)\n",
    "dirt_condition_renamed = Dirt_Condition.rename(columns=dirt_condition_mapping)\n",
    "infrastructures_renamed = Infrastructures.rename(columns=infrastructures_mapping)"
   ]
  },
  {
   "cell_type": "code",
   "execution_count": 10,
   "id": "2feb1b34-0b80-4f4b-9f81-063f77c90c16",
   "metadata": {},
   "outputs": [],
   "source": [
    "#bins_renamed"
   ]
  },
  {
   "cell_type": "markdown",
   "id": "879b1c55",
   "metadata": {},
   "source": [
    "### First Data Cleaning & Organizing "
   ]
  },
  {
   "cell_type": "markdown",
   "id": "4ed6fab8-0baa-4b33-b473-de10657543c2",
   "metadata": {},
   "source": [
    "Take the relevant columns for each DF"
   ]
  },
  {
   "cell_type": "code",
   "execution_count": 11,
   "id": "0f8e1665-a8b2-4dbe-aad8-064d569908fe",
   "metadata": {},
   "outputs": [],
   "source": [
    "bins_df = bins_renamed[['City_Code','Measurement_Point_Description', 'Point_Type','Bin_Count','Has_Bins','End_Time']]\n",
    "dirt_condition_df = dirt_condition_renamed.drop(['Arrival_Time','Coordinate_Address','Other1','Other2'], axis=1)\n",
    "infrastructures_df = infrastructures_renamed.drop(['City', 'Arrival_Time','Coordinate_Address','Remarks'], axis=1)"
   ]
  },
  {
   "cell_type": "markdown",
   "id": "323c1999-7adf-4b88-a593-94035dd9cf4a",
   "metadata": {},
   "source": [
    "#### Organizing the PKs for later merge: date, Measurement_Point_Description"
   ]
  },
  {
   "cell_type": "code",
   "execution_count": 12,
   "id": "7e428cbe-c7a5-4854-9928-905f023a61dc",
   "metadata": {},
   "outputs": [
    {
     "name": "stderr",
     "output_type": "stream",
     "text": [
      "<ipython-input-12-b5f7f3d4bada>:1: SettingWithCopyWarning: \n",
      "A value is trying to be set on a copy of a slice from a DataFrame.\n",
      "Try using .loc[row_indexer,col_indexer] = value instead\n",
      "\n",
      "See the caveats in the documentation: https://pandas.pydata.org/pandas-docs/stable/user_guide/indexing.html#returning-a-view-versus-a-copy\n",
      "  bins_df['Measurement_Point_Description'] = bins_df['Measurement_Point_Description'].str.replace(r'[A-Za-z0-9_\\n]', '', regex=True)\n"
     ]
    }
   ],
   "source": [
    "bins_df['Measurement_Point_Description'] = bins_df['Measurement_Point_Description'].str.replace(r'[A-Za-z0-9_\\n]', '', regex=True)\n",
    "dirt_condition_df['Measurement_Point_Description'] = dirt_condition_df['Measurement_Point_Description'].str.replace(r'[A-Za-z0-9_\\n]', '', regex=True)\n",
    "infrastructures_df['Measurement_Point_Description'] = infrastructures_df['Measurement_Point_Description'].str.replace(r'[A-Za-z0-9_\\n]', '', regex=True)"
   ]
  },
  {
   "cell_type": "code",
   "execution_count": 13,
   "id": "52258e60-c45b-4cb3-b13c-4d4e2123d577",
   "metadata": {
    "scrolled": false
   },
   "outputs": [
    {
     "name": "stderr",
     "output_type": "stream",
     "text": [
      "<ipython-input-13-16fb29a9e75f>:7: SettingWithCopyWarning: \n",
      "A value is trying to be set on a copy of a slice from a DataFrame.\n",
      "Try using .loc[row_indexer,col_indexer] = value instead\n",
      "\n",
      "See the caveats in the documentation: https://pandas.pydata.org/pandas-docs/stable/user_guide/indexing.html#returning-a-view-versus-a-copy\n",
      "  bins_df['End_Time'] = pd.to_datetime(bins_df['End_Time'])\n",
      "<ipython-input-13-16fb29a9e75f>:8: SettingWithCopyWarning: \n",
      "A value is trying to be set on a copy of a slice from a DataFrame.\n",
      "Try using .loc[row_indexer,col_indexer] = value instead\n",
      "\n",
      "See the caveats in the documentation: https://pandas.pydata.org/pandas-docs/stable/user_guide/indexing.html#returning-a-view-versus-a-copy\n",
      "  bins_df['Date'] = bins_df['End_Time'].dt.date\n"
     ]
    }
   ],
   "source": [
    "infrastructures_df['End_Time'] = pd.to_datetime(infrastructures_df['End_Time'])\n",
    "infrastructures_df['Date'] = infrastructures_df['End_Time'].dt.date\n",
    "\n",
    "dirt_condition_df['End_Time'] = pd.to_datetime(dirt_condition_df['End_Time'])\n",
    "dirt_condition_df['Date'] = dirt_condition_df['End_Time'].dt.date\n",
    "\n",
    "bins_df['End_Time'] = pd.to_datetime(bins_df['End_Time'])\n",
    "bins_df['Date'] = bins_df['End_Time'].dt.date"
   ]
  },
  {
   "cell_type": "markdown",
   "id": "32abc0b8-ccde-4873-9197-fadafb7b76ad",
   "metadata": {},
   "source": [
    "##### Handling Nulls (pre condition for merging the DFs) - Only for bin_count and has_bins"
   ]
  },
  {
   "cell_type": "code",
   "execution_count": 14,
   "id": "e7de9721",
   "metadata": {},
   "outputs": [],
   "source": [
    "avg_bin_count_per_city = (\n",
    "    bins_df\n",
    "    .groupby(['City_Code'], as_index=False)\n",
    "    .agg({'Bin_Count': 'mean'}) ## add avg count of gerbege\n",
    ")\n",
    "avg_bin_count_per_city.Bin_Count = avg_bin_count_per_city.Bin_Count.fillna(avg_bin_count_per_city.Bin_Count.mean())"
   ]
  },
  {
   "cell_type": "code",
   "execution_count": 15,
   "id": "e03f633b",
   "metadata": {},
   "outputs": [],
   "source": [
    "avg_bin_count_per_city['Bin_Count'] = avg_bin_count_per_city['Bin_Count'].apply(\n",
    "    lambda x: math.ceil(x) if x - int(x) > 0.5 else math.floor(x))"
   ]
  },
  {
   "cell_type": "code",
   "execution_count": 16,
   "id": "8faf787b",
   "metadata": {},
   "outputs": [
    {
     "data": {
      "text/html": [
       "<div>\n",
       "<style scoped>\n",
       "    .dataframe tbody tr th:only-of-type {\n",
       "        vertical-align: middle;\n",
       "    }\n",
       "\n",
       "    .dataframe tbody tr th {\n",
       "        vertical-align: top;\n",
       "    }\n",
       "\n",
       "    .dataframe thead th {\n",
       "        text-align: right;\n",
       "    }\n",
       "</style>\n",
       "<table border=\"1\" class=\"dataframe\">\n",
       "  <thead>\n",
       "    <tr style=\"text-align: right;\">\n",
       "      <th></th>\n",
       "      <th>City_Code</th>\n",
       "      <th>Bin_Count</th>\n",
       "    </tr>\n",
       "  </thead>\n",
       "  <tbody>\n",
       "    <tr>\n",
       "      <th>0</th>\n",
       "      <td>2</td>\n",
       "      <td>2</td>\n",
       "    </tr>\n",
       "    <tr>\n",
       "      <th>1</th>\n",
       "      <td>8</td>\n",
       "      <td>3</td>\n",
       "    </tr>\n",
       "    <tr>\n",
       "      <th>2</th>\n",
       "      <td>12</td>\n",
       "      <td>4</td>\n",
       "    </tr>\n",
       "    <tr>\n",
       "      <th>3</th>\n",
       "      <td>29</td>\n",
       "      <td>7</td>\n",
       "    </tr>\n",
       "    <tr>\n",
       "      <th>4</th>\n",
       "      <td>31</td>\n",
       "      <td>3</td>\n",
       "    </tr>\n",
       "    <tr>\n",
       "      <th>...</th>\n",
       "      <td>...</td>\n",
       "      <td>...</td>\n",
       "    </tr>\n",
       "    <tr>\n",
       "      <th>75</th>\n",
       "      <td>8500</td>\n",
       "      <td>1</td>\n",
       "    </tr>\n",
       "    <tr>\n",
       "      <th>76</th>\n",
       "      <td>8800</td>\n",
       "      <td>2</td>\n",
       "    </tr>\n",
       "    <tr>\n",
       "      <th>77</th>\n",
       "      <td>9000</td>\n",
       "      <td>8</td>\n",
       "    </tr>\n",
       "    <tr>\n",
       "      <th>78</th>\n",
       "      <td>9200</td>\n",
       "      <td>3</td>\n",
       "    </tr>\n",
       "    <tr>\n",
       "      <th>79</th>\n",
       "      <td>9600</td>\n",
       "      <td>7</td>\n",
       "    </tr>\n",
       "  </tbody>\n",
       "</table>\n",
       "<p>80 rows × 2 columns</p>\n",
       "</div>"
      ],
      "text/plain": [
       "    City_Code  Bin_Count\n",
       "0           2          2\n",
       "1           8          3\n",
       "2          12          4\n",
       "3          29          7\n",
       "4          31          3\n",
       "..        ...        ...\n",
       "75       8500          1\n",
       "76       8800          2\n",
       "77       9000          8\n",
       "78       9200          3\n",
       "79       9600          7\n",
       "\n",
       "[80 rows x 2 columns]"
      ]
     },
     "execution_count": 16,
     "metadata": {},
     "output_type": "execute_result"
    }
   ],
   "source": [
    "avg_bin_count_per_city"
   ]
  },
  {
   "cell_type": "code",
   "execution_count": 17,
   "id": "e07a1894",
   "metadata": {},
   "outputs": [
    {
     "name": "stderr",
     "output_type": "stream",
     "text": [
      "<ipython-input-17-829e0f23dc2e>:1: SettingWithCopyWarning: \n",
      "A value is trying to be set on a copy of a slice from a DataFrame.\n",
      "Try using .loc[row_indexer,col_indexer] = value instead\n",
      "\n",
      "See the caveats in the documentation: https://pandas.pydata.org/pandas-docs/stable/user_guide/indexing.html#returning-a-view-versus-a-copy\n",
      "  bins_df['Fixed_Bin_Count'] = bins_df['Bin_Count'].combine_first(bins_df['City_Code'].map(\n"
     ]
    }
   ],
   "source": [
    "bins_df['Fixed_Bin_Count'] = bins_df['Bin_Count'].combine_first(bins_df['City_Code'].map(\n",
    "    avg_bin_count_per_city.set_index('City_Code')['Bin_Count']))"
   ]
  },
  {
   "cell_type": "code",
   "execution_count": 18,
   "id": "ff64eeac",
   "metadata": {},
   "outputs": [],
   "source": [
    "# bins_df"
   ]
  },
  {
   "cell_type": "code",
   "execution_count": 19,
   "id": "20d724a2-4316-4115-b279-1ebd5fbca024",
   "metadata": {},
   "outputs": [],
   "source": [
    "bins_df = (\n",
    "    bins_df\n",
    "    .groupby(['City_Code', 'Measurement_Point_Description', 'Point_Type', 'End_Time','Date'], as_index=False)\n",
    "    .agg({'Has_Bins': 'max','Fixed_Bin_Count': 'mean'}) ## add avg count of gerbege\n",
    ")"
   ]
  },
  {
   "cell_type": "code",
   "execution_count": 20,
   "id": "3746e708-9de6-4a3b-95b0-12f8357c956c",
   "metadata": {},
   "outputs": [],
   "source": [
    "bins_df['Bin_Count'] = bins_df['Fixed_Bin_Count'].apply(\n",
    "    lambda x: math.ceil(x) if x - int(x) > 0.5 else math.floor(x))"
   ]
  },
  {
   "cell_type": "code",
   "execution_count": 21,
   "id": "340b1fe0",
   "metadata": {},
   "outputs": [],
   "source": [
    "# bins_df.head(20)"
   ]
  },
  {
   "cell_type": "markdown",
   "id": "08d9eb58-b4bb-429e-9970-94e53297f2c9",
   "metadata": {},
   "source": [
    "#### Merging DFs with inner joins "
   ]
  },
  {
   "cell_type": "code",
   "execution_count": 22,
   "id": "901e14e7-83c2-471a-9628-e8312ebdda26",
   "metadata": {},
   "outputs": [],
   "source": [
    "merged_df = pd.merge(infrastructures_df, dirt_condition_df, on=[\n",
    "    \"City_Code\", \"Measurement_Point_Description\", \"Date\"], how='inner')\t"
   ]
  },
  {
   "cell_type": "code",
   "execution_count": 23,
   "id": "cccc2012",
   "metadata": {},
   "outputs": [
    {
     "data": {
      "text/plain": [
       "(1478, 38)"
      ]
     },
     "execution_count": 23,
     "metadata": {},
     "output_type": "execute_result"
    }
   ],
   "source": [
    "merged_df.shape"
   ]
  },
  {
   "cell_type": "code",
   "execution_count": 24,
   "id": "bd60689a-64eb-4d4e-ae62-2f37ed21da5b",
   "metadata": {},
   "outputs": [],
   "source": [
    "full_merged_df = pd.merge(merged_df, bins_df, on=\n",
    "                          [\"City_Code\", \"Measurement_Point_Description\", \"Date\"], how='inner')\t"
   ]
  },
  {
   "cell_type": "code",
   "execution_count": 25,
   "id": "c70989a4-fbf4-4dac-ab88-df7046077c8f",
   "metadata": {
    "scrolled": true
   },
   "outputs": [],
   "source": [
    "relevant_columns = ['End_Time_x', 'Date', 'City', 'City_Code', 'Measurement_Point_Description', 'Point_Type_x',\n",
    "       'Cigarette_Butts', 'Cigarette_Boxes', 'Surgical_Masks', 'Drink_Containers',\n",
    "       'Drink_Container_Caps', 'Paper_Takeaway_Packaging',\n",
    "       'Plastic_Takeaway_Packaging', 'Disposable_Plates', 'Disposable_Cutlery',\n",
    "       'Disposable_Cold_Drink_Cups', 'Disposable_Hot_Drink_Cups',\n",
    "       'Snack_Packaging', 'Non_Bottle_Glass', 'Other_Paper', 'Other_Plastic',\n",
    "       'Organic_Waste', 'Illegal_Dumping', 'Other_Waste', 'Dog_Feces',\n",
    "       'Gum_Stains', 'Large_Waste_Item', 'Cardboard_Packaging', 'Graffiti',\n",
    "       'Bags_Collected', 'People_Passed_During_Observation', 'Has_Bins','Bin_Count',\n",
    "       'General_Impression', 'Sidewalk', 'Curb', 'Fences', 'Vegetation']\n",
    "\n",
    "full_merged_df = full_merged_df[relevant_columns]"
   ]
  },
  {
   "cell_type": "code",
   "execution_count": 26,
   "id": "2ca035c5",
   "metadata": {},
   "outputs": [
    {
     "data": {
      "text/html": [
       "<div>\n",
       "<style scoped>\n",
       "    .dataframe tbody tr th:only-of-type {\n",
       "        vertical-align: middle;\n",
       "    }\n",
       "\n",
       "    .dataframe tbody tr th {\n",
       "        vertical-align: top;\n",
       "    }\n",
       "\n",
       "    .dataframe thead th {\n",
       "        text-align: right;\n",
       "    }\n",
       "</style>\n",
       "<table border=\"1\" class=\"dataframe\">\n",
       "  <thead>\n",
       "    <tr style=\"text-align: right;\">\n",
       "      <th></th>\n",
       "      <th>End_Time</th>\n",
       "      <th>Date</th>\n",
       "      <th>City</th>\n",
       "      <th>City_Code</th>\n",
       "      <th>Measurement_Point_Description</th>\n",
       "      <th>Point_Type</th>\n",
       "      <th>Cigarette_Butts</th>\n",
       "      <th>Cigarette_Boxes</th>\n",
       "      <th>Surgical_Masks</th>\n",
       "      <th>Drink_Containers</th>\n",
       "      <th>...</th>\n",
       "      <th>Graffiti</th>\n",
       "      <th>Bags_Collected</th>\n",
       "      <th>People_Passed_During_Observation</th>\n",
       "      <th>Has_Bins</th>\n",
       "      <th>Bin_Count</th>\n",
       "      <th>General_Impression</th>\n",
       "      <th>Sidewalk</th>\n",
       "      <th>Curb</th>\n",
       "      <th>Fences</th>\n",
       "      <th>Vegetation</th>\n",
       "    </tr>\n",
       "  </thead>\n",
       "  <tbody>\n",
       "    <tr>\n",
       "      <th>0</th>\n",
       "      <td>2021-07-07 10:22:27</td>\n",
       "      <td>2021-07-07</td>\n",
       "      <td>רמלה</td>\n",
       "      <td>8500</td>\n",
       "      <td>רחוב זכריה</td>\n",
       "      <td>רחוב מגורים</td>\n",
       "      <td>2</td>\n",
       "      <td>4</td>\n",
       "      <td>0</td>\n",
       "      <td>0</td>\n",
       "      <td>...</td>\n",
       "      <td>0</td>\n",
       "      <td>1.0</td>\n",
       "      <td>7</td>\n",
       "      <td>לא</td>\n",
       "      <td>1</td>\n",
       "      <td>3</td>\n",
       "      <td>סביר</td>\n",
       "      <td>סביר</td>\n",
       "      <td>סביר</td>\n",
       "      <td>סביר</td>\n",
       "    </tr>\n",
       "    <tr>\n",
       "      <th>1</th>\n",
       "      <td>2021-07-08 13:43:58</td>\n",
       "      <td>2021-07-08</td>\n",
       "      <td>מגדל העמק</td>\n",
       "      <td>874</td>\n",
       "      <td>מגדל העמק רחוב הזית</td>\n",
       "      <td>רחוב מסחרי</td>\n",
       "      <td>900</td>\n",
       "      <td>30</td>\n",
       "      <td>100</td>\n",
       "      <td>55</td>\n",
       "      <td>...</td>\n",
       "      <td>0</td>\n",
       "      <td>7.0</td>\n",
       "      <td>300</td>\n",
       "      <td>לא</td>\n",
       "      <td>4</td>\n",
       "      <td>4</td>\n",
       "      <td>לא תקין (מוזנח)</td>\n",
       "      <td>לא תקין (מוזנח)</td>\n",
       "      <td>לא רלוונטי</td>\n",
       "      <td>לא תקין (מוזנח)</td>\n",
       "    </tr>\n",
       "    <tr>\n",
       "      <th>2</th>\n",
       "      <td>2021-07-08 15:29:42</td>\n",
       "      <td>2021-07-08</td>\n",
       "      <td>מגדל העמק</td>\n",
       "      <td>874</td>\n",
       "      <td>רחוב הראשונים - שוק</td>\n",
       "      <td>רחוב מסחרי</td>\n",
       "      <td>100</td>\n",
       "      <td>3</td>\n",
       "      <td>15</td>\n",
       "      <td>5</td>\n",
       "      <td>...</td>\n",
       "      <td>0</td>\n",
       "      <td>5.0</td>\n",
       "      <td>125</td>\n",
       "      <td>לא</td>\n",
       "      <td>4</td>\n",
       "      <td>4</td>\n",
       "      <td>תקין (מטופח)</td>\n",
       "      <td>תקין (מטופח)</td>\n",
       "      <td>תקין (מטופח)</td>\n",
       "      <td>לא רלוונטי</td>\n",
       "    </tr>\n",
       "    <tr>\n",
       "      <th>3</th>\n",
       "      <td>2021-07-08 18:29:40</td>\n",
       "      <td>2021-07-08</td>\n",
       "      <td>מגדל העמק</td>\n",
       "      <td>874</td>\n",
       "      <td>רחוב בוסקילה פארק משחקים (שניים סמוכים)</td>\n",
       "      <td>פנאי ונופש</td>\n",
       "      <td>53</td>\n",
       "      <td>2</td>\n",
       "      <td>12</td>\n",
       "      <td>30</td>\n",
       "      <td>...</td>\n",
       "      <td>0</td>\n",
       "      <td>2.0</td>\n",
       "      <td>73</td>\n",
       "      <td>לא</td>\n",
       "      <td>4</td>\n",
       "      <td>2</td>\n",
       "      <td>תקין (מטופח)</td>\n",
       "      <td>תקין (מטופח)</td>\n",
       "      <td>תקין (מטופח)</td>\n",
       "      <td>לא רלוונטי</td>\n",
       "    </tr>\n",
       "    <tr>\n",
       "      <th>4</th>\n",
       "      <td>2021-07-08 20:25:47</td>\n",
       "      <td>2021-07-08</td>\n",
       "      <td>מגדל העמק</td>\n",
       "      <td>874</td>\n",
       "      <td>פארק הראשונים - פנאי ונופש</td>\n",
       "      <td>פנאי ונופש</td>\n",
       "      <td>999</td>\n",
       "      <td>8</td>\n",
       "      <td>8</td>\n",
       "      <td>7</td>\n",
       "      <td>...</td>\n",
       "      <td>15</td>\n",
       "      <td>2.0</td>\n",
       "      <td>212</td>\n",
       "      <td>לא</td>\n",
       "      <td>4</td>\n",
       "      <td>3</td>\n",
       "      <td>תקין (מטופח)</td>\n",
       "      <td>תקין (מטופח)</td>\n",
       "      <td>תקין (מטופח)</td>\n",
       "      <td>תקין (מטופח)</td>\n",
       "    </tr>\n",
       "  </tbody>\n",
       "</table>\n",
       "<p>5 rows × 38 columns</p>\n",
       "</div>"
      ],
      "text/plain": [
       "             End_Time        Date       City  City_Code  \\\n",
       "0 2021-07-07 10:22:27  2021-07-07       רמלה       8500   \n",
       "1 2021-07-08 13:43:58  2021-07-08  מגדל העמק        874   \n",
       "2 2021-07-08 15:29:42  2021-07-08  מגדל העמק        874   \n",
       "3 2021-07-08 18:29:40  2021-07-08  מגדל העמק        874   \n",
       "4 2021-07-08 20:25:47  2021-07-08  מגדל העמק        874   \n",
       "\n",
       "             Measurement_Point_Description   Point_Type  Cigarette_Butts  \\\n",
       "0                               רחוב זכריה  רחוב מגורים                2   \n",
       "1                      מגדל העמק רחוב הזית   רחוב מסחרי              900   \n",
       "2                      רחוב הראשונים - שוק   רחוב מסחרי              100   \n",
       "3  רחוב בוסקילה פארק משחקים (שניים סמוכים)   פנאי ונופש               53   \n",
       "4               פארק הראשונים - פנאי ונופש   פנאי ונופש              999   \n",
       "\n",
       "   Cigarette_Boxes  Surgical_Masks  Drink_Containers  ...  Graffiti  \\\n",
       "0                4               0                 0  ...         0   \n",
       "1               30             100                55  ...         0   \n",
       "2                3              15                 5  ...         0   \n",
       "3                2              12                30  ...         0   \n",
       "4                8               8                 7  ...        15   \n",
       "\n",
       "   Bags_Collected  People_Passed_During_Observation  Has_Bins  Bin_Count  \\\n",
       "0             1.0                                 7        לא          1   \n",
       "1             7.0                               300        לא          4   \n",
       "2             5.0                               125        לא          4   \n",
       "3             2.0                                73        לא          4   \n",
       "4             2.0                               212        לא          4   \n",
       "\n",
       "   General_Impression         Sidewalk             Curb        Fences  \\\n",
       "0                   3             סביר             סביר          סביר   \n",
       "1                   4  לא תקין (מוזנח)  לא תקין (מוזנח)    לא רלוונטי   \n",
       "2                   4     תקין (מטופח)     תקין (מטופח)  תקין (מטופח)   \n",
       "3                   2     תקין (מטופח)     תקין (מטופח)  תקין (מטופח)   \n",
       "4                   3     תקין (מטופח)     תקין (מטופח)  תקין (מטופח)   \n",
       "\n",
       "        Vegetation  \n",
       "0             סביר  \n",
       "1  לא תקין (מוזנח)  \n",
       "2       לא רלוונטי  \n",
       "3       לא רלוונטי  \n",
       "4     תקין (מטופח)  \n",
       "\n",
       "[5 rows x 38 columns]"
      ]
     },
     "execution_count": 26,
     "metadata": {},
     "output_type": "execute_result"
    }
   ],
   "source": [
    "full_merged_df.rename(columns=lambda col: col[:-2] if col.endswith('_x') else col, inplace=True)\n",
    "full_merged_df.head()"
   ]
  },
  {
   "cell_type": "markdown",
   "id": "90ebab75",
   "metadata": {},
   "source": [
    "#### Fetching dtypes"
   ]
  },
  {
   "cell_type": "code",
   "execution_count": 27,
   "id": "ab724e00",
   "metadata": {},
   "outputs": [],
   "source": [
    "full_merged_df['Date'] = pd.to_datetime(full_merged_df['Date'])\n",
    "full_merged_df['Has_Bins'] = full_merged_df['Has_Bins'].replace('כן', True)\n",
    "full_merged_df['Has_Bins'] = full_merged_df['Has_Bins'].replace('לא', False)"
   ]
  },
  {
   "cell_type": "code",
   "execution_count": 28,
   "id": "c693cd52",
   "metadata": {},
   "outputs": [
    {
     "data": {
      "text/plain": [
       "End_Time                            datetime64[ns]\n",
       "Date                                datetime64[ns]\n",
       "City                                        object\n",
       "City_Code                                    int64\n",
       "Measurement_Point_Description               object\n",
       "Point_Type                                  object\n",
       "Cigarette_Butts                              int64\n",
       "Cigarette_Boxes                              int64\n",
       "Surgical_Masks                               int64\n",
       "Drink_Containers                             int64\n",
       "Drink_Container_Caps                         int64\n",
       "Paper_Takeaway_Packaging                     int64\n",
       "Plastic_Takeaway_Packaging                   int64\n",
       "Disposable_Plates                            int64\n",
       "Disposable_Cutlery                           int64\n",
       "Disposable_Cold_Drink_Cups                   int64\n",
       "Disposable_Hot_Drink_Cups                    int64\n",
       "Snack_Packaging                              int64\n",
       "Non_Bottle_Glass                             int64\n",
       "Other_Paper                                  int64\n",
       "Other_Plastic                                int64\n",
       "Organic_Waste                              float64\n",
       "Illegal_Dumping                              int64\n",
       "Other_Waste                                  int64\n",
       "Dog_Feces                                    int64\n",
       "Gum_Stains                                   int64\n",
       "Large_Waste_Item                             int64\n",
       "Cardboard_Packaging                          int64\n",
       "Graffiti                                     int64\n",
       "Bags_Collected                             float64\n",
       "People_Passed_During_Observation             int64\n",
       "Has_Bins                                      bool\n",
       "Bin_Count                                    int64\n",
       "General_Impression                           int64\n",
       "Sidewalk                                    object\n",
       "Curb                                        object\n",
       "Fences                                      object\n",
       "Vegetation                                  object\n",
       "dtype: object"
      ]
     },
     "execution_count": 28,
     "metadata": {},
     "output_type": "execute_result"
    }
   ],
   "source": [
    "full_merged_df.dtypes"
   ]
  },
  {
   "cell_type": "code",
   "execution_count": 29,
   "id": "8f9dc922",
   "metadata": {},
   "outputs": [],
   "source": [
    "for col in full_merged_df.columns:\n",
    "    if col not in ['Measurement_Point_Description', 'Point_Type']:\n",
    "        if full_merged_df[col].dtype not in ['int64', 'float64', 'datetime64[ns]']:\n",
    "            full_merged_df[col] = full_merged_df[col].astype('category')"
   ]
  },
  {
   "cell_type": "code",
   "execution_count": 30,
   "id": "a7578ee1",
   "metadata": {},
   "outputs": [
    {
     "data": {
      "text/plain": [
       "End_Time                            datetime64[ns]\n",
       "Date                                datetime64[ns]\n",
       "City                                      category\n",
       "City_Code                                    int64\n",
       "Measurement_Point_Description               object\n",
       "Point_Type                                  object\n",
       "Cigarette_Butts                              int64\n",
       "Cigarette_Boxes                              int64\n",
       "Surgical_Masks                               int64\n",
       "Drink_Containers                             int64\n",
       "Drink_Container_Caps                         int64\n",
       "Paper_Takeaway_Packaging                     int64\n",
       "Plastic_Takeaway_Packaging                   int64\n",
       "Disposable_Plates                            int64\n",
       "Disposable_Cutlery                           int64\n",
       "Disposable_Cold_Drink_Cups                   int64\n",
       "Disposable_Hot_Drink_Cups                    int64\n",
       "Snack_Packaging                              int64\n",
       "Non_Bottle_Glass                             int64\n",
       "Other_Paper                                  int64\n",
       "Other_Plastic                                int64\n",
       "Organic_Waste                              float64\n",
       "Illegal_Dumping                              int64\n",
       "Other_Waste                                  int64\n",
       "Dog_Feces                                    int64\n",
       "Gum_Stains                                   int64\n",
       "Large_Waste_Item                             int64\n",
       "Cardboard_Packaging                          int64\n",
       "Graffiti                                     int64\n",
       "Bags_Collected                             float64\n",
       "People_Passed_During_Observation             int64\n",
       "Has_Bins                                  category\n",
       "Bin_Count                                    int64\n",
       "General_Impression                           int64\n",
       "Sidewalk                                  category\n",
       "Curb                                      category\n",
       "Fences                                    category\n",
       "Vegetation                                category\n",
       "dtype: object"
      ]
     },
     "execution_count": 30,
     "metadata": {},
     "output_type": "execute_result"
    }
   ],
   "source": [
    "full_merged_df.dtypes"
   ]
  },
  {
   "cell_type": "code",
   "execution_count": 31,
   "id": "c197cbcc",
   "metadata": {},
   "outputs": [],
   "source": [
    "full_merged_df.to_excel('full_merged_df.xlsx', index=False)"
   ]
  },
  {
   "cell_type": "markdown",
   "id": "b4994025",
   "metadata": {},
   "source": [
    "### Handling the rest of the Nulls & Outlires"
   ]
  },
  {
   "cell_type": "code",
   "execution_count": 32,
   "id": "14dcc5e4",
   "metadata": {},
   "outputs": [],
   "source": [
    "df= pd.read_excel(\"full_merged_df.xlsx\") "
   ]
  },
  {
   "cell_type": "code",
   "execution_count": 33,
   "id": "9a1e1fce",
   "metadata": {},
   "outputs": [
    {
     "data": {
      "text/html": [
       "<div>\n",
       "<style scoped>\n",
       "    .dataframe tbody tr th:only-of-type {\n",
       "        vertical-align: middle;\n",
       "    }\n",
       "\n",
       "    .dataframe tbody tr th {\n",
       "        vertical-align: top;\n",
       "    }\n",
       "\n",
       "    .dataframe thead th {\n",
       "        text-align: right;\n",
       "    }\n",
       "</style>\n",
       "<table border=\"1\" class=\"dataframe\">\n",
       "  <thead>\n",
       "    <tr style=\"text-align: right;\">\n",
       "      <th></th>\n",
       "      <th>End_Time</th>\n",
       "      <th>Date</th>\n",
       "      <th>City</th>\n",
       "      <th>City_Code</th>\n",
       "      <th>Measurement_Point_Description</th>\n",
       "      <th>Point_Type</th>\n",
       "      <th>Cigarette_Butts</th>\n",
       "      <th>Cigarette_Boxes</th>\n",
       "      <th>Surgical_Masks</th>\n",
       "      <th>Drink_Containers</th>\n",
       "      <th>...</th>\n",
       "      <th>Graffiti</th>\n",
       "      <th>Bags_Collected</th>\n",
       "      <th>People_Passed_During_Observation</th>\n",
       "      <th>Has_Bins</th>\n",
       "      <th>Bin_Count</th>\n",
       "      <th>General_Impression</th>\n",
       "      <th>Sidewalk</th>\n",
       "      <th>Curb</th>\n",
       "      <th>Fences</th>\n",
       "      <th>Vegetation</th>\n",
       "    </tr>\n",
       "  </thead>\n",
       "  <tbody>\n",
       "    <tr>\n",
       "      <th>0</th>\n",
       "      <td>2021-07-07 10:22:27</td>\n",
       "      <td>2021-07-07</td>\n",
       "      <td>רמלה</td>\n",
       "      <td>8500</td>\n",
       "      <td>רחוב זכריה</td>\n",
       "      <td>רחוב מגורים</td>\n",
       "      <td>2</td>\n",
       "      <td>4</td>\n",
       "      <td>0</td>\n",
       "      <td>0</td>\n",
       "      <td>...</td>\n",
       "      <td>0</td>\n",
       "      <td>1.0</td>\n",
       "      <td>7</td>\n",
       "      <td>False</td>\n",
       "      <td>1</td>\n",
       "      <td>3</td>\n",
       "      <td>סביר</td>\n",
       "      <td>סביר</td>\n",
       "      <td>סביר</td>\n",
       "      <td>סביר</td>\n",
       "    </tr>\n",
       "    <tr>\n",
       "      <th>1</th>\n",
       "      <td>2021-07-08 13:43:58</td>\n",
       "      <td>2021-07-08</td>\n",
       "      <td>מגדל העמק</td>\n",
       "      <td>874</td>\n",
       "      <td>מגדל העמק רחוב הזית</td>\n",
       "      <td>רחוב מסחרי</td>\n",
       "      <td>900</td>\n",
       "      <td>30</td>\n",
       "      <td>100</td>\n",
       "      <td>55</td>\n",
       "      <td>...</td>\n",
       "      <td>0</td>\n",
       "      <td>7.0</td>\n",
       "      <td>300</td>\n",
       "      <td>False</td>\n",
       "      <td>4</td>\n",
       "      <td>4</td>\n",
       "      <td>לא תקין (מוזנח)</td>\n",
       "      <td>לא תקין (מוזנח)</td>\n",
       "      <td>לא רלוונטי</td>\n",
       "      <td>לא תקין (מוזנח)</td>\n",
       "    </tr>\n",
       "    <tr>\n",
       "      <th>2</th>\n",
       "      <td>2021-07-08 15:29:42</td>\n",
       "      <td>2021-07-08</td>\n",
       "      <td>מגדל העמק</td>\n",
       "      <td>874</td>\n",
       "      <td>רחוב הראשונים - שוק</td>\n",
       "      <td>רחוב מסחרי</td>\n",
       "      <td>100</td>\n",
       "      <td>3</td>\n",
       "      <td>15</td>\n",
       "      <td>5</td>\n",
       "      <td>...</td>\n",
       "      <td>0</td>\n",
       "      <td>5.0</td>\n",
       "      <td>125</td>\n",
       "      <td>False</td>\n",
       "      <td>4</td>\n",
       "      <td>4</td>\n",
       "      <td>תקין (מטופח)</td>\n",
       "      <td>תקין (מטופח)</td>\n",
       "      <td>תקין (מטופח)</td>\n",
       "      <td>לא רלוונטי</td>\n",
       "    </tr>\n",
       "    <tr>\n",
       "      <th>3</th>\n",
       "      <td>2021-07-08 18:29:40</td>\n",
       "      <td>2021-07-08</td>\n",
       "      <td>מגדל העמק</td>\n",
       "      <td>874</td>\n",
       "      <td>רחוב בוסקילה פארק משחקים (שניים סמוכים)</td>\n",
       "      <td>פנאי ונופש</td>\n",
       "      <td>53</td>\n",
       "      <td>2</td>\n",
       "      <td>12</td>\n",
       "      <td>30</td>\n",
       "      <td>...</td>\n",
       "      <td>0</td>\n",
       "      <td>2.0</td>\n",
       "      <td>73</td>\n",
       "      <td>False</td>\n",
       "      <td>4</td>\n",
       "      <td>2</td>\n",
       "      <td>תקין (מטופח)</td>\n",
       "      <td>תקין (מטופח)</td>\n",
       "      <td>תקין (מטופח)</td>\n",
       "      <td>לא רלוונטי</td>\n",
       "    </tr>\n",
       "    <tr>\n",
       "      <th>4</th>\n",
       "      <td>2021-07-08 20:25:47</td>\n",
       "      <td>2021-07-08</td>\n",
       "      <td>מגדל העמק</td>\n",
       "      <td>874</td>\n",
       "      <td>פארק הראשונים - פנאי ונופש</td>\n",
       "      <td>פנאי ונופש</td>\n",
       "      <td>999</td>\n",
       "      <td>8</td>\n",
       "      <td>8</td>\n",
       "      <td>7</td>\n",
       "      <td>...</td>\n",
       "      <td>15</td>\n",
       "      <td>2.0</td>\n",
       "      <td>212</td>\n",
       "      <td>False</td>\n",
       "      <td>4</td>\n",
       "      <td>3</td>\n",
       "      <td>תקין (מטופח)</td>\n",
       "      <td>תקין (מטופח)</td>\n",
       "      <td>תקין (מטופח)</td>\n",
       "      <td>תקין (מטופח)</td>\n",
       "    </tr>\n",
       "  </tbody>\n",
       "</table>\n",
       "<p>5 rows × 38 columns</p>\n",
       "</div>"
      ],
      "text/plain": [
       "             End_Time       Date       City  City_Code  \\\n",
       "0 2021-07-07 10:22:27 2021-07-07       רמלה       8500   \n",
       "1 2021-07-08 13:43:58 2021-07-08  מגדל העמק        874   \n",
       "2 2021-07-08 15:29:42 2021-07-08  מגדל העמק        874   \n",
       "3 2021-07-08 18:29:40 2021-07-08  מגדל העמק        874   \n",
       "4 2021-07-08 20:25:47 2021-07-08  מגדל העמק        874   \n",
       "\n",
       "             Measurement_Point_Description   Point_Type  Cigarette_Butts  \\\n",
       "0                               רחוב זכריה  רחוב מגורים                2   \n",
       "1                      מגדל העמק רחוב הזית   רחוב מסחרי              900   \n",
       "2                      רחוב הראשונים - שוק   רחוב מסחרי              100   \n",
       "3  רחוב בוסקילה פארק משחקים (שניים סמוכים)   פנאי ונופש               53   \n",
       "4               פארק הראשונים - פנאי ונופש   פנאי ונופש              999   \n",
       "\n",
       "   Cigarette_Boxes  Surgical_Masks  Drink_Containers  ...  Graffiti  \\\n",
       "0                4               0                 0  ...         0   \n",
       "1               30             100                55  ...         0   \n",
       "2                3              15                 5  ...         0   \n",
       "3                2              12                30  ...         0   \n",
       "4                8               8                 7  ...        15   \n",
       "\n",
       "   Bags_Collected  People_Passed_During_Observation  Has_Bins  Bin_Count  \\\n",
       "0             1.0                                 7     False          1   \n",
       "1             7.0                               300     False          4   \n",
       "2             5.0                               125     False          4   \n",
       "3             2.0                                73     False          4   \n",
       "4             2.0                               212     False          4   \n",
       "\n",
       "   General_Impression         Sidewalk             Curb        Fences  \\\n",
       "0                   3             סביר             סביר          סביר   \n",
       "1                   4  לא תקין (מוזנח)  לא תקין (מוזנח)    לא רלוונטי   \n",
       "2                   4     תקין (מטופח)     תקין (מטופח)  תקין (מטופח)   \n",
       "3                   2     תקין (מטופח)     תקין (מטופח)  תקין (מטופח)   \n",
       "4                   3     תקין (מטופח)     תקין (מטופח)  תקין (מטופח)   \n",
       "\n",
       "        Vegetation  \n",
       "0             סביר  \n",
       "1  לא תקין (מוזנח)  \n",
       "2       לא רלוונטי  \n",
       "3       לא רלוונטי  \n",
       "4     תקין (מטופח)  \n",
       "\n",
       "[5 rows x 38 columns]"
      ]
     },
     "execution_count": 33,
     "metadata": {},
     "output_type": "execute_result"
    }
   ],
   "source": [
    "df.head()"
   ]
  },
  {
   "cell_type": "code",
   "execution_count": 35,
   "id": "719c699b",
   "metadata": {},
   "outputs": [
    {
     "data": {
      "text/plain": [
       "77"
      ]
     },
     "execution_count": 35,
     "metadata": {},
     "output_type": "execute_result"
    }
   ],
   "source": [
    "len(df.City.unique())"
   ]
  },
  {
   "cell_type": "code",
   "execution_count": 39,
   "id": "43971323",
   "metadata": {},
   "outputs": [
    {
     "data": {
      "text/plain": [
       "Index(['End_Time', 'Date', 'City', 'City_Code',\n",
       "       'Measurement_Point_Description', 'Point_Type', 'Cigarette_Butts',\n",
       "       'Cigarette_Boxes', 'Surgical_Masks', 'Drink_Containers',\n",
       "       'Drink_Container_Caps', 'Paper_Takeaway_Packaging',\n",
       "       'Plastic_Takeaway_Packaging', 'Disposable_Plates', 'Disposable_Cutlery',\n",
       "       'Disposable_Cold_Drink_Cups', 'Disposable_Hot_Drink_Cups',\n",
       "       'Snack_Packaging', 'Non_Bottle_Glass', 'Other_Paper', 'Other_Plastic',\n",
       "       'Organic_Waste', 'Illegal_Dumping', 'Other_Waste', 'Dog_Feces',\n",
       "       'Gum_Stains', 'Large_Waste_Item', 'Cardboard_Packaging', 'Graffiti',\n",
       "       'Bags_Collected', 'People_Passed_During_Observation', 'Has_Bins',\n",
       "       'Bin_Count', 'General_Impression', 'Sidewalk', 'Curb', 'Fences',\n",
       "       'Vegetation'],\n",
       "      dtype='object')"
      ]
     },
     "execution_count": 39,
     "metadata": {},
     "output_type": "execute_result"
    }
   ],
   "source": [
    "df.columns"
   ]
  },
  {
   "cell_type": "markdown",
   "id": "1ec2a692",
   "metadata": {},
   "source": [
    "## Nulls Handling Division:\n",
    "\n",
    "### Niv - \n",
    "['End_Time', 'Date', 'City', 'City_Code',\n",
    "       'Measurement_Point_Description', 'Point_Type', 'Cigarette_Butts',\n",
    "       'Cigarette_Boxes', 'Surgical_Masks', 'Drink_Containers',\n",
    "       'Drink_Container_Caps', 'Paper_Takeaway_Packaging',\n",
    "       'Plastic_Takeaway_Packaging', 'Disposable_Plates', 'Disposable_Cutlery',\n",
    "       'Disposable_Cold_Drink_Cups', 'Disposable_Hot_Drink_Cups',\n",
    "       'Snack_Packaging', 'Non_Bottle_Glass', 'Other_Paper', 'Other_Plastic']\n",
    "       \n",
    "### Mutzafi - \n",
    "['Organic_Waste', 'Illegal_Dumping', 'Other_Waste', 'Dog_Feces',\n",
    "       'Gum_Stains', 'Large_Waste_Item', 'Cardboard_Packaging', 'Graffiti',\n",
    "       'Bags_Collected', 'People_Passed_During_Observation', 'Has_Bins',\n",
    "       'Bin_Count', 'General_Impression', 'Sidewalk', 'Curb', 'Fences',\n",
    "       'Vegetation']\n"
   ]
  },
  {
   "cell_type": "code",
   "execution_count": null,
   "id": "9f42d8f5",
   "metadata": {},
   "outputs": [],
   "source": []
  },
  {
   "cell_type": "code",
   "execution_count": null,
   "id": "03000bca",
   "metadata": {},
   "outputs": [],
   "source": []
  }
 ],
 "metadata": {
  "kernelspec": {
   "display_name": "Python 3",
   "language": "python",
   "name": "python3"
  },
  "language_info": {
   "codemirror_mode": {
    "name": "ipython",
    "version": 3
   },
   "file_extension": ".py",
   "mimetype": "text/x-python",
   "name": "python",
   "nbconvert_exporter": "python",
   "pygments_lexer": "ipython3",
   "version": "3.8.8"
  }
 },
 "nbformat": 4,
 "nbformat_minor": 5
}
